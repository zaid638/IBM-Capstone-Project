{
  "cells": [
    {
      "cell_type": "markdown",
      "metadata": {
        "id": "Oe9--XUWfA-R"
      },
      "source": [
        "<p style=\"text-align:center\">\n",
        "    <a href=\"https://skills.network/?utm_medium=Exinfluencer&utm_source=Exinfluencer&utm_content=000026UJ&utm_term=10006555&utm_id=NA-SkillsNetwork-Channel-SkillsNetworkCoursesIBMDA0321ENSkillsNetwork928-2023-01-01\">\n",
        "    <img src=\"https://cf-courses-data.s3.us.cloud-object-storage.appdomain.cloud/assets/logos/SN_web_lightmode.png\" width=\"200\" alt=\"Skills Network Logo\"  />\n",
        "    </a>\n",
        "</p>\n"
      ]
    },
    {
      "cell_type": "markdown",
      "metadata": {
        "id": "NuEDwtxnfA-m"
      },
      "source": [
        "# **Data Visualization Lab**\n"
      ]
    },
    {
      "cell_type": "markdown",
      "metadata": {
        "id": "OOhUmvMEfA-o"
      },
      "source": [
        "Estimated time needed: **45 to 60** minutes\n"
      ]
    },
    {
      "cell_type": "markdown",
      "metadata": {
        "id": "4mnLQtKnfA-u"
      },
      "source": [
        "In this assignment you will be focusing on the visualization of data.\n",
        "\n",
        "The data set will be presented to you in the form of a RDBMS.\n",
        "\n",
        "You will have to use SQL queries to extract the data.\n"
      ]
    },
    {
      "cell_type": "markdown",
      "metadata": {
        "id": "N2hHozyXfA-v"
      },
      "source": [
        "## Objectives\n"
      ]
    },
    {
      "cell_type": "markdown",
      "metadata": {
        "id": "WYHBVGqyfA-0"
      },
      "source": [
        "In this lab you will perform the following:\n"
      ]
    },
    {
      "cell_type": "markdown",
      "metadata": {
        "id": "Qg5S14ATfA-1"
      },
      "source": [
        "-   Visualize the distribution of data.\n",
        "\n",
        "-   Visualize the relationship between two features.\n",
        "\n",
        "-   Visualize composition of data.\n",
        "\n",
        "-   Visualize comparison of data.\n"
      ]
    },
    {
      "cell_type": "markdown",
      "metadata": {
        "id": "FW8Kf3fvfA-9"
      },
      "source": [
        "<hr>\n"
      ]
    },
    {
      "cell_type": "markdown",
      "metadata": {
        "id": "DxHt31fOfA--"
      },
      "source": [
        "## Demo: How to work with database\n"
      ]
    },
    {
      "cell_type": "markdown",
      "metadata": {
        "id": "Qt-vI733fA_A"
      },
      "source": [
        "Download database file.\n"
      ]
    },
    {
      "cell_type": "code",
      "execution_count": 2,
      "metadata": {
        "colab": {
          "base_uri": "https://localhost:8080/"
        },
        "id": "siqw56N9fA_C",
        "outputId": "1701ed8c-a53d-4190-ba77-91d86b42cb58"
      },
      "outputs": [
        {
          "output_type": "stream",
          "name": "stdout",
          "text": [
            "--2023-08-27 16:29:30--  https://cf-courses-data.s3.us.cloud-object-storage.appdomain.cloud/IBM-DA0321EN-SkillsNetwork/LargeData/m4_survey_data.sqlite\n",
            "Resolving cf-courses-data.s3.us.cloud-object-storage.appdomain.cloud (cf-courses-data.s3.us.cloud-object-storage.appdomain.cloud)... 169.63.118.104\n",
            "Connecting to cf-courses-data.s3.us.cloud-object-storage.appdomain.cloud (cf-courses-data.s3.us.cloud-object-storage.appdomain.cloud)|169.63.118.104|:443... connected.\n",
            "HTTP request sent, awaiting response... 200 OK\n",
            "Length: 36679680 (35M) [application/octet-stream]\n",
            "Saving to: ‘m4_survey_data.sqlite’\n",
            "\n",
            "m4_survey_data.sqli 100%[===================>]  34.98M  25.7MB/s    in 1.4s    \n",
            "\n",
            "2023-08-27 16:29:31 (25.7 MB/s) - ‘m4_survey_data.sqlite’ saved [36679680/36679680]\n",
            "\n"
          ]
        }
      ],
      "source": [
        "!wget https://cf-courses-data.s3.us.cloud-object-storage.appdomain.cloud/IBM-DA0321EN-SkillsNetwork/LargeData/m4_survey_data.sqlite"
      ]
    },
    {
      "cell_type": "markdown",
      "metadata": {
        "id": "XWqw-pJNfA_b"
      },
      "source": [
        "Connect to the database.\n"
      ]
    },
    {
      "cell_type": "code",
      "execution_count": 57,
      "metadata": {
        "id": "kjc-mn0jfA_d"
      },
      "outputs": [],
      "source": [
        "import sqlite3\n",
        "conn = sqlite3.connect(\"m4_survey_data.sqlite\") # open a database connection"
      ]
    },
    {
      "cell_type": "markdown",
      "metadata": {
        "id": "jLncuLAkfA_e"
      },
      "source": [
        "Import pandas module.\n"
      ]
    },
    {
      "cell_type": "code",
      "execution_count": 4,
      "metadata": {
        "id": "ZOYq3yZbfA_f"
      },
      "outputs": [],
      "source": [
        "import pandas as pd"
      ]
    },
    {
      "cell_type": "markdown",
      "metadata": {
        "id": "NXLWHFfUfA_f"
      },
      "source": [
        "## Demo: How to run an sql query\n"
      ]
    },
    {
      "cell_type": "code",
      "execution_count": null,
      "metadata": {
        "colab": {
          "base_uri": "https://localhost:8080/",
          "height": 478
        },
        "id": "o66WEZbPfA_g",
        "outputId": "ffa1f9f2-04e7-407b-907f-cd627fd1bac7"
      },
      "outputs": [
        {
          "output_type": "execute_result",
          "data": {
            "text/plain": [
              "   COUNT(*)\n",
              "0     11398"
            ],
            "text/html": [
              "\n",
              "  <div id=\"df-7fa25037-6bc5-4f59-af75-3d1dbf810bdc\" class=\"colab-df-container\">\n",
              "    <div>\n",
              "<style scoped>\n",
              "    .dataframe tbody tr th:only-of-type {\n",
              "        vertical-align: middle;\n",
              "    }\n",
              "\n",
              "    .dataframe tbody tr th {\n",
              "        vertical-align: top;\n",
              "    }\n",
              "\n",
              "    .dataframe thead th {\n",
              "        text-align: right;\n",
              "    }\n",
              "</style>\n",
              "<table border=\"1\" class=\"dataframe\">\n",
              "  <thead>\n",
              "    <tr style=\"text-align: right;\">\n",
              "      <th></th>\n",
              "      <th>COUNT(*)</th>\n",
              "    </tr>\n",
              "  </thead>\n",
              "  <tbody>\n",
              "    <tr>\n",
              "      <th>0</th>\n",
              "      <td>11398</td>\n",
              "    </tr>\n",
              "  </tbody>\n",
              "</table>\n",
              "</div>\n",
              "    <div class=\"colab-df-buttons\">\n",
              "\n",
              "  <div class=\"colab-df-container\">\n",
              "    <button class=\"colab-df-convert\" onclick=\"convertToInteractive('df-7fa25037-6bc5-4f59-af75-3d1dbf810bdc')\"\n",
              "            title=\"Convert this dataframe to an interactive table.\"\n",
              "            style=\"display:none;\">\n",
              "\n",
              "  <svg xmlns=\"http://www.w3.org/2000/svg\" height=\"24px\" viewBox=\"0 -960 960 960\">\n",
              "    <path d=\"M120-120v-720h720v720H120Zm60-500h600v-160H180v160Zm220 220h160v-160H400v160Zm0 220h160v-160H400v160ZM180-400h160v-160H180v160Zm440 0h160v-160H620v160ZM180-180h160v-160H180v160Zm440 0h160v-160H620v160Z\"/>\n",
              "  </svg>\n",
              "    </button>\n",
              "\n",
              "  <style>\n",
              "    .colab-df-container {\n",
              "      display:flex;\n",
              "      gap: 12px;\n",
              "    }\n",
              "\n",
              "    .colab-df-convert {\n",
              "      background-color: #E8F0FE;\n",
              "      border: none;\n",
              "      border-radius: 50%;\n",
              "      cursor: pointer;\n",
              "      display: none;\n",
              "      fill: #1967D2;\n",
              "      height: 32px;\n",
              "      padding: 0 0 0 0;\n",
              "      width: 32px;\n",
              "    }\n",
              "\n",
              "    .colab-df-convert:hover {\n",
              "      background-color: #E2EBFA;\n",
              "      box-shadow: 0px 1px 2px rgba(60, 64, 67, 0.3), 0px 1px 3px 1px rgba(60, 64, 67, 0.15);\n",
              "      fill: #174EA6;\n",
              "    }\n",
              "\n",
              "    .colab-df-buttons div {\n",
              "      margin-bottom: 4px;\n",
              "    }\n",
              "\n",
              "    [theme=dark] .colab-df-convert {\n",
              "      background-color: #3B4455;\n",
              "      fill: #D2E3FC;\n",
              "    }\n",
              "\n",
              "    [theme=dark] .colab-df-convert:hover {\n",
              "      background-color: #434B5C;\n",
              "      box-shadow: 0px 1px 3px 1px rgba(0, 0, 0, 0.15);\n",
              "      filter: drop-shadow(0px 1px 2px rgba(0, 0, 0, 0.3));\n",
              "      fill: #FFFFFF;\n",
              "    }\n",
              "  </style>\n",
              "\n",
              "    <script>\n",
              "      const buttonEl =\n",
              "        document.querySelector('#df-7fa25037-6bc5-4f59-af75-3d1dbf810bdc button.colab-df-convert');\n",
              "      buttonEl.style.display =\n",
              "        google.colab.kernel.accessAllowed ? 'block' : 'none';\n",
              "\n",
              "      async function convertToInteractive(key) {\n",
              "        const element = document.querySelector('#df-7fa25037-6bc5-4f59-af75-3d1dbf810bdc');\n",
              "        const dataTable =\n",
              "          await google.colab.kernel.invokeFunction('convertToInteractive',\n",
              "                                                    [key], {});\n",
              "        if (!dataTable) return;\n",
              "\n",
              "        const docLinkHtml = 'Like what you see? Visit the ' +\n",
              "          '<a target=\"_blank\" href=https://colab.research.google.com/notebooks/data_table.ipynb>data table notebook</a>'\n",
              "          + ' to learn more about interactive tables.';\n",
              "        element.innerHTML = '';\n",
              "        dataTable['output_type'] = 'display_data';\n",
              "        await google.colab.output.renderOutput(dataTable, element);\n",
              "        const docLink = document.createElement('div');\n",
              "        docLink.innerHTML = docLinkHtml;\n",
              "        element.appendChild(docLink);\n",
              "      }\n",
              "    </script>\n",
              "  </div>\n",
              "\n",
              "    </div>\n",
              "  </div>\n"
            ]
          },
          "metadata": {},
          "execution_count": 4
        },
        {
          "output_type": "display_data",
          "data": {
            "text/plain": [
              "<google.colab._quickchart_helpers.SectionTitle at 0x7f71ded1b850>"
            ],
            "text/html": [
              "<h4 class=\"colab-quickchart-section-title\">Time series</h4>\n",
              "<style>\n",
              "  .colab-quickchart-section-title {\n",
              "      clear: both;\n",
              "  }\n",
              "</style>"
            ]
          },
          "metadata": {}
        },
        {
          "output_type": "display_data",
          "data": {
            "text/plain": [
              "import numpy as np\n",
              "from google.colab import autoviz\n",
              "\n",
              "def time_series_multiline(df, timelike_colname, value_colname, series_colname, figscale=1, mpl_palette_name='Dark2'):\n",
              "  from matplotlib import pyplot as plt\n",
              "  import seaborn as sns\n",
              "  figsize = (10 * figscale, 5.2 * figscale)\n",
              "  palette = list(sns.palettes.mpl_palette(mpl_palette_name))\n",
              "  def _plot_series(series, series_name, series_index=0):\n",
              "    if value_colname == 'count()':\n",
              "      counted = (series[timelike_colname]\n",
              "                 .value_counts()\n",
              "                 .reset_index(name='counts')\n",
              "                 .rename({'index': timelike_colname}, axis=1)\n",
              "                 .sort_values(timelike_colname, ascending=True))\n",
              "      xs = counted[timelike_colname]\n",
              "      ys = counted['counts']\n",
              "    else:\n",
              "      xs = series[timelike_colname]\n",
              "      ys = series[value_colname]\n",
              "    plt.plot(xs, ys, label=series_name, color=palette[series_index % len(palette)])\n",
              "\n",
              "  fig, ax = plt.subplots(figsize=figsize, layout='constrained')\n",
              "  df = df.sort_values(timelike_colname, ascending=True)\n",
              "  if series_colname:\n",
              "    for i, (series_name, series) in enumerate(df.groupby(series_colname)):\n",
              "      _plot_series(series, series_name, i)\n",
              "    fig.legend(title=series_colname, bbox_to_anchor=(1, 1), loc='upper left')\n",
              "  else:\n",
              "    _plot_series(df, '')\n",
              "  sns.despine(fig=fig, ax=ax)\n",
              "  plt.xlabel(timelike_colname)\n",
              "  plt.ylabel(value_colname)\n",
              "  return autoviz.MplChart.from_current_mpl_state()\n",
              "\n",
              "chart = time_series_multiline(_df_0, *['index', 'count()', None], **{})\n",
              "chart"
            ],
            "text/html": [
              "      <div class=\"colab-quickchart-chart-with-code\" id=\"chart-df073242-90d0-41c4-bc65-92e3e2928523\">\n",
              "        <img src=\"data:image/png;base64,iVBORw0KGgoAAAANSUhEUgAAAf8AAAEPCAYAAABMY82nAAAAOXRFWHRTb2Z0d2FyZQBNYXRwbG90\n",
              "bGliIHZlcnNpb24zLjcuMSwgaHR0cHM6Ly9tYXRwbG90bGliLm9yZy/bCgiHAAAACXBIWXMAAA9h\n",
              "AAAPYQGoP6dpAAAZf0lEQVR4nO3de0zV9/3H8dcBJlYnaCNVFzwgIN6vKFFppdUuYlfxus51bcOq\n",
              "iFudRmaxpmWtq9PepDLtoi7GVZvZdGotaZclq92stwWd0k6trSh4wIrWTsF2isD5/P4wPfH8vIGc\n",
              "Lwf4PB/JN+s534+H9/mE7AmHLweXMcYIAABYIyTYAwAAgKZF/AEAsAzxBwDAMsQfAADLEH8AACxD\n",
              "/AEAsAzxBwDAMsQfAADLtPr45+fnB3sEAACalVYf/5MnTwZ7BAAAmpVWH38AAOCP+AMAYBniDwCA\n",
              "ZYg/AACWIf4AAFiG+AMAYBniDwCAZYg/AACWIf4AAFiG+AMAYBniDwCAZYg/AACWIf4AAFiG+AMA\n",
              "YBniDwCAZYg/AACWIf4AAFiG+AMAYBniDwCAZYg/AACWIf4AAFiG+AMAYBniDwCAZYg/AACWIf4A\n",
              "AFjG0fjPnTtXsbGxcrlcKioquum6devWqWfPnoqPj1dmZqZqamr8zhtjNGbMGHXs2NHJcQEAsIKj\n",
              "8Z82bZp27dqlmJiYm64pKSlRbm6udu7cqeLiYp05c0Zr1671W/P6668rPj7eyVEBALCGo/EfPXq0\n",
              "oqOjb7lm8+bNSk9PV9euXeVyuTR79mxt2rTJd/7w4cPatm2bnnnmmdt+vOrqalVVVfkddXV1jX4e\n",
              "AAC0JkH/mb/H4/F7ZSA2NlYej0eSVFNTo8zMTK1Zs0ahoaG3faxly5YpMjLS7ygsLHRsdgAAWqKg\n",
              "x/9WFi9erClTpqhPnz71Wr9o0SJVVlb6HcnJyQ5PCQBAyxIW7AHcbreOHz/uu11aWiq32y1J2rFj\n",
              "hzwej1atWqXa2lpVVVUpNjZW+/btU1RU1HWPFR4ervDwcL/76vOKAQAANgn6d/5Tp05VQUGBKioq\n",
              "ZIzR6tWrNX36dEnSzp07dfLkSZWWlmrXrl2KiIhQaWnpDcMPAADqx9H4Z2VlKTo6WuXl5Ro3bpwS\n",
              "EhIkSTNnzlRBQYEkKS4uTosXL1ZKSooSEhIUFRWlrKwsJ8cCAMBqLmOMCfYQTsrOzlZeXl6wxwAA\n",
              "oNkI+sv+AACgaRF/AAAsQ/wBALAM8QcAwDLEHwAAyxB/AAAsQ/wBALAM8QcAwDLEHwAAyxB/AAAs\n",
              "Q/wBALAM8QcAwDLEHwAAyxB/AAAsQ/wBALAM8QcAwDLEHwAAyxB/AAAsQ/wBALAM8QcAwDLEHwAA\n",
              "yxB/AAAsQ/wBALAM8QcAwDLEHwAAyxB/AAAsQ/wBALAM8QcAwDLEHwAAyxB/AAAsQ/wBALCMo/Gf\n",
              "O3euYmNj5XK5VFRUdNN169atU8+ePRUfH6/MzEzV1NRIkj766CMlJyerb9++6tevn3JycuT1ep0c\n",
              "GQCAVs/R+E+bNk27du1STEzMTdeUlJQoNzdXO3fuVHFxsc6cOaO1a9dKkjp16qS3335bR44c0b//\n",
              "/W/t2bNHGzZscHJkAABaPUfjP3r0aEVHR99yzebNm5Wenq6uXbvK5XJp9uzZ2rRpkyRpyJAhiouL\n",
              "kyS1bdtWgwcPVmlpqZMjAwDQ6oUFewCPx+P3ykBsbKw8Hs916yoqKrR582a9//77N32s6upqVVdX\n",
              "+91XV1cXuGEBAGgFWsQFf1VVVZowYYJycnI0bNiwm65btmyZIiMj/Y7CwsImnBQAgOYv6PF3u906\n",
              "efKk73Zpaancbrfv9sWLF5WWlqaJEycqOzv7lo+1aNEiVVZW+h3JycmOzQ4AQEsU9PhPnTpVBQUF\n",
              "qqiokDFGq1ev1vTp0yVJ33zzjdLS0pSWlqbnnnvuto8VHh6uiIgIvyM0NNTppwAAQIviaPyzsrIU\n",
              "HR2t8vJyjRs3TgkJCZKkmTNnqqCgQJIUFxenxYsXKyUlRQkJCYqKilJWVpYkKT8/X4WFhdq6dasG\n",
              "Dx6swYMH63e/+52TIwMA0Oq5jDEm2EM4KTs7W3l5ecEeAwCAZiPoL/sDAICmRfwBALAM8QcAwDLE\n",
              "HwAAyxB/AAAsQ/wBALAM8QcAwDLEHwAAyxB/AAAsQ/wBALAM8QcAwDLEHwAAyxB/AAAsQ/wBALAM\n",
              "8QcAwDLEHwAAyxB/AAAsE3Yn/+jIkSMqLy/XXXfdpQEDBqhjx44BHgsAADil3vG/ePGiXnvtNf3x\n",
              "j39Uu3bt1KVLF12+fFnHjx9XcnKyFi5cqLFjxzo5KwAACIB6x/+BBx7QE088oYMHD6pLly6++71e\n",
              "r3bu3KnVq1eruLhYWVlZjgwKAAACo97x3717t8LDw6+7PyQkRKmpqUpNTVV1dXVAhwMAAIFX7wv+\n",
              "bhT+O1kDAACCq97xf/jhh7Vnz54bnrtw4YKWL1+uNWvWBGwwAADgjHq/7L906VItWrRIR44c0fDh\n",
              "w30X/B09elSnTp3SU089pSeffNLJWQEAQADUO/4DBw7UBx98oLKyMu3YsUPl5eVq166dfvazn+ne\n",
              "e+9VWNgd/dYgAABoYg0u9vnz5/XYY4/53ffpp59q4MCBARsKAAA4p8Hv8JeRkVGv+wAAQPNU7+/8\n",
              "z549q4qKCl26dEn/+c9/ZIyRJFVWVurbb791bEAAABBY9Y7/pk2btGLFCn355ZdKT0/33R8ZGamc\n",
              "nBxHhgMAAIFX7/jPmzdP8+bN04svvqjc3FwnZwIAAA5q8AV/ubm58nq9qqioUG1tre9+t9sd0MEA\n",
              "AIAzGnzB35tvvqmOHTtqwIABSkpKUlJSkoYNG3bDtXPnzlVsbKxcLpeKiopu+pjr1q1Tz549FR8f\n",
              "r8zMTNXU1NTrHAAAaLgGx/+3v/2t9u3bp6+//lpfffWVvvrqK509e/aGa6dNm6Zdu3YpJibmpo9X\n",
              "UlKi3Nxc7dy5U8XFxTpz5ozWrl1723MAAODONDj+nTt3Vq9eveq1dvTo0YqOjr7lms2bNys9PV1d\n",
              "u3aVy+XS7NmztWnTptueAwAAd6bBP/OfNGmSVqxYoUcffVRt27b13R8REXFHA3g8Hr9XBmJjY+Xx\n",
              "eG577kaqq6uv+8uCdXV1dzQXAACtVYO/83/22WeVnZ2trl27qlOnTurYsaM6derkxGwNtmzZMkVG\n",
              "RvodhYWFwR4LAIBmpcHx93q9vqOurs73v3fK7Xbr5MmTvtulpaW+3xy41bkbWbRokSorK/2O5OTk\n",
              "O54NAIDWqMHxD7SpU6eqoKBAFRUVMsZo9erVmj59+m3P3Uh4eLgiIiL8jtDQ0KZ6KgAAtAgNjn9I\n",
              "SIhCQ0OvO24kKytL0dHRKi8v17hx45SQkCBJmjlzpgoKCiRJcXFxWrx4sVJSUpSQkKCoqChlZWXd\n",
              "9hwAALgzLvPdm/TX07Xv43/p0iVt2LBBdXV1evrppwM+XCBkZ2crLy8v2GMAANBsNPg7//bt2/uO\n",
              "zp07Kzs7W5s3b3ZiNgAA4IBG/8z/6NGjOnfuXCBmAQAATaDBv+ffqVMnuVwuSfK9t//KlSsDOxUA\n",
              "AHBMg+N/7Xv0h4WFqWvXrlxRDwBAC9Lg+MfExOh///uf74uATp06qV27doGeCwAAOKTB8d+zZ4+m\n",
              "Tp2qrl27SpLOnDmjLVu2aOTIkQEfDgAABF6D4//d1f0pKSmSrn4xMH/+fP3rX/8K+HAAACDwGny1\n",
              "/6VLl3zhl6RRo0bp8uXLAR0KAAA4p8Hx//73v68PP/zQd3v79u1q3759QIcCAADOafDL/r///e81\n",
              "ZcoU3xX+Xq9XW7duDfhgAADAGQ2O/5dffqn9+/frzJkzkqQuXbrwZ3MBAGhBGvyyf25urqKiotS/\n",
              "f3/1799fnTt3Vm5urhOzAQAABzT67X1dLpfq6uoCMQsAAGgCDY5/hw4dtGfPHt/t3bt3q0OHDgEd\n",
              "CgAAOKfBP/N/5ZVXNHnyZPXu3VuSdOzYMb377rsBHwwAADijwfEfOXKkPvvsM+3du1fS1d/z79ix\n",
              "Y6DnAgAADmlw/KWr7+f/0EMPBXoWAADQBBp9wR8AAGhZiD8AAJYh/gAAWIb4AwBgGeIPAIBliD8A\n",
              "AJYh/gAAWIb4AwBgGeIPAIBliD8AAJYh/gAAWIb4AwBgGeIPAIBliD8AAJZxNP7Hjh3TqFGjlJiY\n",
              "qOHDh+vw4cPXrfF6vVqwYIH69++v3r17a8aMGbpy5Yrv/Msvv6y+fftq8ODBGjFihAoLC50cGQCA\n",
              "Vs/R+GdlZWnWrFn64osvtHDhQmVkZFy3Zt26dTpw4IAOHDigzz77TCEhIcrPz5ckFRUV6Q9/+IMK\n",
              "CwtVVFSkOXPmaM6cOU6ODABAq+dY/M+ePav9+/frsccekyRNnTpVZWVlKi4u9lv3ySef6MEHH1Sb\n",
              "Nm3kcrk0fvx4bdy4UZLkcrlUU1Ojb7/9VpJ04cIFRUdHOzUyAABWCHPqgcvKytStWzeFhV39EC6X\n",
              "S263Wx6PRwkJCb51SUlJWrNmjebMmaO77rpL77zzjkpLSyVJgwYN0vz589WjRw/dfffdCg8P18cf\n",
              "f3zTj1ldXa3q6mq/++rq6gL/5AAAaMGCfsFfRkaG0tLSlJqaqtTUVCUmJvq+YCgpKdHWrVtVXFys\n",
              "8vJyzZ8/Xz/5yU9u+ljLli1TZGSk38E1AgAA+HMs/t27d9fp06dVW1srSTLGyOPxyO12+61zuVx6\n",
              "4YUXdPDgQe3Zs0d9+/ZVv379JElbtmzRgAED9IMf/ECS9POf/1y7d+/2uyDwWosWLVJlZaXfkZyc\n",
              "7NRTBACgRXIs/vfcc4+GDh2qt956S9LVkEdHR/u95C9Jly9f1vnz5yVJ586d00svvaScnBxJUlxc\n",
              "nHbv3q1vvvlGkvT+++8rMTFRbdq0ueHHDA8PV0REhN8RGhrq1FMEAKBFcuxn/pK0Zs0aZWRkaOnS\n",
              "pYqIiND69eslSTNnzlR6errS09NVWVmp+++/XyEhIfJ6vZo3b54mTJggSZo8ebL27dunYcOGKTw8\n",
              "XO3bt9ef//xnJ0cGAKDVcxljTLCHcFJ2drby8vKCPQYAAM1G0C/4AwAATYv4AwBgGeIPAIBliD8A\n",
              "AJYh/gAAWIb4AwBgGeIPAIBliD8AAJYh/gAAWIb4AwBgGeIPAIBliD8AAJYh/gAAWIb4AwBgGeIP\n",
              "AIBliD8AAJYh/gAAWIb4AwBgGeIPAIBliD8AAJYh/gAAWIb4AwBgGeIPAIBliD8AAJYh/gAAWIb4\n",
              "AwBgGeIPAIBliD8AAJYh/gAAWIb4AwBgGeIPAIBlHI3/sWPHNGrUKCUmJmr48OE6fPjwdWu8Xq8W\n",
              "LFig/v37q3fv3poxY4auXLniO+/xeDRhwgT16tVLffv21cqVK50cGQCAVs/R+GdlZWnWrFn64osv\n",
              "tHDhQmVkZFy3Zt26dTpw4IAOHDigzz77TCEhIcrPz5ckGWM0efJkPfHEE/r888915MgRPfLII06O\n",
              "DABAq+dY/M+ePav9+/frsccekyRNnTpVZWVlKi4u9lv3ySef6MEHH1SbNm3kcrk0fvx4bdy4UZK0\n",
              "fft2hYeH68c//rFvfZcuXZwaGQAAKzgW/7KyMnXr1k1hYWGSJJfLJbfbLY/H47cuKSlJBQUFqqqq\n",
              "Uk1Njd555x2VlpZKko4cOaKoqChNnz5dQ4YM0eTJk3XixImbfszq6mpVVVX5HXV1dU49RQAAWqSg\n",
              "X/CXkZGhtLQ0paamKjU1VYmJib4vGGpra/XRRx8pNzdXBw8e1Lhx4275sv+yZcsUGRnpdxQWFjbV\n",
              "UwEAoEVwLP7du3fX6dOnVVtbK+nqz+89Ho/cbrffOpfLpRdeeEEHDx7Unj171LdvX/Xr10+S5Ha7\n",
              "NWTIEN/txx9/XAcOHFBNTc0NP+aiRYtUWVnpdyQnJzv1FAEAaJEci/8999yjoUOH6q233pIkbdmy\n",
              "RdHR0UpISPBbd/nyZZ0/f16SdO7cOb300kvKycmRJI0fP17l5eU6deqUJOmvf/2r+vTpo+9973s3\n",
              "/Jjh4eGKiIjwO0JDQ516igAAtEhhTj74mjVrlJGRoaVLlyoiIkLr16+XJM2cOVPp6elKT09XZWWl\n",
              "7r//foWEhMjr9WrevHmaMGGCJKl9+/ZavXq1fvSjH8kYo8jISL399ttOjgwAQKvnMsaYYA/hpOzs\n",
              "bOXl5QV7DAAAmo2gX/AHAACaFvEHAMAyxB8AAMsQfwAALEP8AQCwDPEHAMAyxB8AAMsQfwAALEP8\n",
              "AQCwDPEHAMAyxB8AAMsQfwAALEP8AQCwDPEHAMAyxB8AAMsQfwAALEP8AQCwDPEHAMAyxB8AAMsQ\n",
              "fwAALEP8AQCwDPEHAMAyxB8AAMsQfwAALEP8AQCwjMsYY4I9hJOmTJmi2NjYYI/RZOrq6lRYWKjk\n",
              "5GSFhoYGe5wWiT1sPPaw8djDxrN1D2NiYjRv3rxbrmn18bdNVVWVIiMjVVlZqYiIiGCP0yKxh43H\n",
              "HjYee9h47OHN8bI/AACWIf4AAFiG+AMAYBni38qEh4fr+eefV3h4eLBHabHYw8ZjDxuPPWw89vDm\n",
              "uOAPAADL8J0/AACWIf4AAFiG+AMAYBni3wJ5vV796le/Unx8vBISErRq1aqbrj127JhGjRqlxMRE\n",
              "DR8+XIcPH75uzfr16+VyubRt2zYHp25eArGHly9f1qRJk5SYmKhBgwbphz/8oYqLi5vqKQRFfT6f\n",
              "JGndunXq2bOn4uPjlZmZqZqamnqds0Fj9/Cjjz5ScnKy+vbtq379+iknJ0der7cpn0LQBeLzUJKM\n",
              "MRozZow6duzYBFM3MwYtzptvvmnGjBljamtrzddff23cbrc5dOjQDdc+8MADZv369cYYY/7yl7+Y\n",
              "YcOG+Z0vKSkxI0eONCNGjDDvvvuuw5M3H4HYw0uXLpkPPvjAeL1eY4wxK1euNKmpqU0xftDc7vPJ\n",
              "GGNOnDhhunXrZk6fPm28Xq+ZMGGCWbVq1W3P2aKxe3jgwAFz/PhxY8zVz8GUlBTf49misXv4neXL\n",
              "l5uZM2eayMjIJpi6eSH+LdBDDz1kNm3a5Lv99NNPm2efffa6dWfOnDEdOnQwNTU1xhhjvF6v6dKl\n",
              "izl27Jgxxpi6ujozduxYs3//fpOammpV/AO1h9fat2+fiYmJcWzmYKvvXrzyyismKyvLd/uDDz4w\n",
              "KSkptz1ng0Ds4f/31FNPmeeff96xmZubQO3hoUOHzH333WeKi4utjD8v+7dAHo9HMTExvtuxsbHy\n",
              "eDzXrSsrK1O3bt0UFhYmSXK5XHK73b61eXl5SklJUVJSUtMM3owEag+vlZ+fr4kTJzo3dJDVdy9u\n",
              "tbf13ffWKhB7eK2Kigpt3rxZDz/8sLODNyOB2MOamhplZmZqzZo1Vv3Bn2uFBXsAXG/kyJE6duzY\n",
              "Dc8dPHgwIB/j0KFD2rJliz7++OOAPF5z0xR7eK2lS5equLhY27dvD/hjAzdSVVWlCRMmKCcnR8OG\n",
              "DQv2OC3K4sWLNWXKFPXp00elpaXBHicoiH8ztHfv3lued7vdOnnypEaOHClJKi0tldvtvm5d9+7d\n",
              "dfr0adXW1iosLEzGGHk8Hrndbv39739XaWmpevbsKenqdxCzZs3S6dOn9Ytf/CLwT6qJNcUefue1\n",
              "117T1q1b9eGHH6pdu3aBfSLNSH32Qrq6t8ePH/fdvnZvb3XOBoHYQ0m6ePGi0tLSNHHiRGVnZzfZ\n",
              "/M1BIPZwx44d8ng8WrVqlWpra1VVVaXY2Fjt27dPUVFRTfp8giaoP3TAHVm/fv11F6t9+umnN1yb\n",
              "mprqd2FMUlLSTdfZ9DP/QO3h8uXLzdChQ81///vfphg76Orz+XT8+PHrLrRauXLlbc/ZorF7ePHi\n",
              "RTNq1CizePHiphy7WWnsHl6rpKTEyp/5E/8WqLa21vzyl780PXr0MHFxcWbFihW+c++9956ZMWOG\n",
              "7/bRo0fNiBEjTM+ePU1SUtItA2dT/AOxh2VlZUaSiYuLM4MGDTKDBg0yycnJTf5cmtLN9mLGjBnm\n",
              "vffe861bu3atiYuLM3FxcebJJ580V65cqdc5GzR2D5csWWLCwsJ8n3ODBg0yS5YsCcpzCZZAfB5+\n",
              "x9b4897+AABYhqv9AQCwDPEHAMAyxB8AAMsQfwC3NHjwYF28eLHB/27atGn605/+FPiBADQav+cP\n",
              "4JaKioqCPQKAAOM7fwC35HK5dOHCBUlX3yL1N7/5jUaOHKkePXpoyZIlvnVHjx7VqFGj1K9fP02a\n",
              "NElVVVW+cxcvXlRmZqaSk5M1cOBAzZo1S1euXNHnn3+u6OhonThxQtLVN0xKS0uz7q/UAU2N+ANo\n",
              "kAsXLmjv3r3at2+fXn31VZ06dUqS9Pjjj2vGjBk6fPiwXnzxRe3YscP3b37961/rvvvuU2FhoT75\n",
              "5BN5vV7l5+erV69eevXVV/XII4/on//8p9544w1t3LhRISH8XxPgJF72B9Agjz76qCSpc+fOiouL\n",
              "U0lJiTp06KCioiJlZGRIkgYMGKB7773X92+2bdumvXv3Ki8vT5J06dIl3x9U+elPf6p//OMfGjdu\n",
              "nLZv327P26sCQUT8ATRI27Ztff8dGhqq2traG65zuVy+/zbGaMuWLUpMTLxuXW1trQ4dOqS7777b\n",
              "9yoCAGfx2hqARouIiNCQIUO0YcMGSdLhw4e1a9cu3/lJkybp5Zdf9n2hcP78eRUXF0uSnnnmGfXq\n",
              "1Us7d+7UggULfPcDcA7xBxAQGzZs0Nq1a9W/f38999xzGj16tO/c66+/rrvuukuDBw/WwIEDNXbs\n",
              "WJWWlur999/X3/72N73xxhtKSEhQXl6eHnnkEV2+fDmIzwRo/XhvfwAALMN3/gAAWIb4AwBgGeIP\n",
              "AIBliD8AAJYh/gAAWIb4AwBgGeIPAIBliD8AAJYh/gAAWIb4AwBgmf8DtyGZm7Khw7gAAAAASUVO\n",
              "RK5CYII=\n",
              "\">\n",
              "        \n",
              "      </div>\n",
              "      <script></script>\n",
              "      <script type=\"text/javascript\">\n",
              "        (() => {\n",
              "          const chartElement = document.getElementById(\"chart-df073242-90d0-41c4-bc65-92e3e2928523\");\n",
              "          async function getCodeForChartHandler(event) {\n",
              "            const chartCodeResponse =  await google.colab.kernel.invokeFunction(\n",
              "                'getCodeForChart', [\"chart-df073242-90d0-41c4-bc65-92e3e2928523\"], {});\n",
              "            const responseJson = chartCodeResponse.data['application/json'];\n",
              "            await google.colab.notebook.addCell(responseJson.code, 'code');\n",
              "          }\n",
              "          chartElement.onclick = getCodeForChartHandler;\n",
              "        })();\n",
              "      </script>\n",
              "      <style>\n",
              "        .colab-quickchart-chart-with-code  {\n",
              "            display: block;\n",
              "            float: left;\n",
              "            border: 1px solid transparent;\n",
              "        }\n",
              "\n",
              "        .colab-quickchart-chart-with-code:hover {\n",
              "            cursor: pointer;\n",
              "            border: 1px solid #aaa;\n",
              "        }\n",
              "      </style>"
            ]
          },
          "metadata": {}
        },
        {
          "output_type": "display_data",
          "data": {
            "text/plain": [
              "import numpy as np\n",
              "from google.colab import autoviz\n",
              "\n",
              "def time_series_multiline(df, timelike_colname, value_colname, series_colname, figscale=1, mpl_palette_name='Dark2'):\n",
              "  from matplotlib import pyplot as plt\n",
              "  import seaborn as sns\n",
              "  figsize = (10 * figscale, 5.2 * figscale)\n",
              "  palette = list(sns.palettes.mpl_palette(mpl_palette_name))\n",
              "  def _plot_series(series, series_name, series_index=0):\n",
              "    if value_colname == 'count()':\n",
              "      counted = (series[timelike_colname]\n",
              "                 .value_counts()\n",
              "                 .reset_index(name='counts')\n",
              "                 .rename({'index': timelike_colname}, axis=1)\n",
              "                 .sort_values(timelike_colname, ascending=True))\n",
              "      xs = counted[timelike_colname]\n",
              "      ys = counted['counts']\n",
              "    else:\n",
              "      xs = series[timelike_colname]\n",
              "      ys = series[value_colname]\n",
              "    plt.plot(xs, ys, label=series_name, color=palette[series_index % len(palette)])\n",
              "\n",
              "  fig, ax = plt.subplots(figsize=figsize, layout='constrained')\n",
              "  df = df.sort_values(timelike_colname, ascending=True)\n",
              "  if series_colname:\n",
              "    for i, (series_name, series) in enumerate(df.groupby(series_colname)):\n",
              "      _plot_series(series, series_name, i)\n",
              "    fig.legend(title=series_colname, bbox_to_anchor=(1, 1), loc='upper left')\n",
              "  else:\n",
              "    _plot_series(df, '')\n",
              "  sns.despine(fig=fig, ax=ax)\n",
              "  plt.xlabel(timelike_colname)\n",
              "  plt.ylabel(value_colname)\n",
              "  return autoviz.MplChart.from_current_mpl_state()\n",
              "\n",
              "chart = time_series_multiline(_df_1, *['COUNT(*)', 'count()', None], **{})\n",
              "chart"
            ],
            "text/html": [
              "      <div class=\"colab-quickchart-chart-with-code\" id=\"chart-f42186fa-f880-4371-acfc-bf3d269cf8f8\">\n",
              "        <img src=\"data:image/png;base64,iVBORw0KGgoAAAANSUhEUgAAAf8AAAEPCAYAAABMY82nAAAAOXRFWHRTb2Z0d2FyZQBNYXRwbG90\n",
              "bGliIHZlcnNpb24zLjcuMSwgaHR0cHM6Ly9tYXRwbG90bGliLm9yZy/bCgiHAAAACXBIWXMAAA9h\n",
              "AAAPYQGoP6dpAAAcK0lEQVR4nO3de1DVdf7H8dcBVkpXEBOhxAMhoCIqirLeEstK210ppTbb3Abz\n",
              "Qk2uGlO6TlFau1pNy+ba7Kq7Zne7qDVMtbtdnAwvDZpgecnAwAMqmE6ClRCXz+8Pp/NbFlBAjsD5\n",
              "PB8z33HO9/Phe97f95zzfXG+58tXhzHGCAAAWMOnvQsAAACXFuEPAIBlCH8AACxD+AMAYBnCHwAA\n",
              "yxD+AABYhvAHAMAyhD8AAJbx+vBfuXJle5cAAECH4vXhf+TIkfYuAQCADsXrwx8AANRH+AMAYBnC\n",
              "HwAAyxD+AABYhvAHAMAyhD8AAJYh/AEAsAzhDwCAZQh/AAAsQ/gDAGAZwh8AAMsQ/gAAWIbwBwDA\n",
              "MoQ/AACWIfwBALAM4Q8AgGUIfwAALEP4AwBgGcIfAADLEP4AAFiG8AcAwDKEPwAAliH8AQCwDOEP\n",
              "AIBlCH8AACzj0fCfP3++IiIi5HA4lJeX1+S8devWKTo6Wv369dOcOXNUXV1db9wYo+uuu049evTw\n",
              "ZLkAAFjBo+F/6623atu2bQoPD29yTmFhoTIyMpSdna2CggKVlZVp7dq19eb85S9/Ub9+/TxZKgAA\n",
              "1vBo+I8fP15hYWHnnbNx40YlJycrNDRUDodD99xzjzZs2OAe379/v95++2394Q9/uODzVVVVqaKi\n",
              "ot5SW1t70fsBAIA3affv/F0uV70zAxEREXK5XJKk6upqzZkzR2vWrJGvr+8Ft7VixQoFBgbWW3Jy\n",
              "cjxWOwAAnVG7h//5LFu2TNOmTdPAgQObNX/JkiUqLy+vtyQmJnq4SgAAOhe/9i7A6XTq8OHD7sdF\n",
              "RUVyOp2SpK1bt8rlcunZZ59VTU2NKioqFBERoV27dik4OLjBtvz9/eXv719vXXPOGAAAYJN2/+Sf\n",
              "kpKirKwslZaWyhij1atXa/r06ZKk7OxsHTlyREVFRdq2bZsCAgJUVFTUaPADAIDm8Wj4p6WlKSws\n",
              "TCUlJZo0aZKioqIkSbNnz1ZWVpYkKTIyUsuWLdPYsWMVFRWl4OBgpaWlebIsAACs5jDGmPYuwpPS\n",
              "09OVmZnZ3mUAANBhtPtpfwAAcGkR/gAAWIbwBwDAMoQ/AACWIfwBALAM4Q8AgGUIfwAALEP4AwBg\n",
              "GcIfAADLEP4AAFiG8AcAwDKEPwAAliH8AQCwDOEPAIBlCH8AACxD+AMAYBnCHwAAyxD+AABYhvAH\n",
              "AMAyhD8AAJYh/AEAsAzhDwCAZQh/AAAsQ/gDAGAZwh8AAMsQ/gAAWIbwBwDAMoQ/AACWIfwBALAM\n",
              "4Q8AgGUIfwAALOPR8J8/f74iIiLkcDiUl5fX5Lx169YpOjpa/fr105w5c1RdXS1J2rJlixITExUb\n",
              "G6tBgwZp0aJFqqur82TJAAB4PY+G/6233qpt27YpPDy8yTmFhYXKyMhQdna2CgoKVFZWprVr10qS\n",
              "goKC9Nprr+nAgQP67LPPtGPHDr344oueLBkAAK/n0fAfP368wsLCzjtn48aNSk5OVmhoqBwOh+65\n",
              "5x5t2LBBkjRs2DBFRkZKki677DLFx8erqKjIkyUDAOD1/Nq7AJfLVe/MQEREhFwuV4N5paWl2rhx\n",
              "o955550mt1VVVaWqqqp662pra9uuWAAAvECnuOCvoqJCU6ZM0aJFizRixIgm561YsUKBgYH1lpyc\n",
              "nEtYKQAAHV+7h7/T6dSRI0fcj4uKiuR0Ot2Pz5w5o8mTJ+vmm29Wenr6ebe1ZMkSlZeX11sSExM9\n",
              "VjsAAJ1Ru4d/SkqKsrKyVFpaKmOMVq9erenTp0uSvvvuO02ePFmTJ0/Www8/fMFt+fv7KyAgoN7i\n",
              "6+vr6V0AAKBT8Wj4p6WlKSwsTCUlJZo0aZKioqIkSbNnz1ZWVpYkKTIyUsuWLdPYsWMVFRWl4OBg\n",
              "paWlSZJWrlypnJwcbd68WfHx8YqPj9ef/vQnT5YMAIDXcxhjTHsX4Unp6enKzMxs7zIAAOgw2v20\n",
              "PwAAuLQIfwAALEP4AwBgGcIfAADLEP4AAFiG8AcAwDKEPwAAliH8AQCwDOEPAIBlCH8AACxD+AMA\n",
              "YBnCHwAAyxD+AABYhvAHAMAyhD8AAJYh/AEAsAzhDwCAZfxa80MHDhxQSUmJLr/8cg0ePFg9evRo\n",
              "47IAAICnNDv8z5w5o6efflr/+Mc/1LVrV4WEhKiyslKHDx9WYmKiFi9erIkTJ3qyVgAA0AaaHf7X\n",
              "Xnut7rrrLuXm5iokJMS9vq6uTtnZ2Vq9erUKCgqUlpbmkUIBAEDbaHb4b9++Xf7+/g3W+/j4KCkp\n",
              "SUlJSaqqqmrT4gAAQNtr9gV/jQV/a+YAAID21ezw//Wvf60dO3Y0Onb69Gn9+c9/1po1a9qsMAAA\n",
              "4BnNPu2/fPlyLVmyRAcOHNDIkSPdF/x9+eWXOnr0qO677z7dfffdnqwVAAC0gWaH/5AhQ/Tuu++q\n",
              "uLhYW7duVUlJibp27ao777xT48aNk59fq/5qEAAAXGItTuxvv/1WM2bMqLfu888/15AhQ9qsKAAA\n",
              "4DktvsNfampqs9YBAICOqdmf/E+cOKHS0lKdPXtWX3zxhYwxkqTy8nJ9//33HisQAAC0rWaH/4YN\n",
              "G/TMM8/o2LFjSk5Odq8PDAzUokWLPFIcAABoe80O/wULFmjBggV6/PHHlZGR4cmaAACAB7X4gr+M\n",
              "jAzV1dWptLRUNTU17vVOp7NNCwMAAJ7R4gv+XnjhBfXo0UODBw9WQkKCEhISNGLEiEbnzp8/XxER\n",
              "EXI4HMrLy2tym+vWrVN0dLT69eunOXPmqLq6ulljAACg5Voc/o899ph27dqlU6dO6ZtvvtE333yj\n",
              "EydONDr31ltv1bZt2xQeHt7k9goLC5WRkaHs7GwVFBSorKxMa9euveAYAABonRaHf69evdS/f/9m\n",
              "zR0/frzCwsLOO2fjxo1KTk5WaGioHA6H7rnnHm3YsOGCYwAAoHVa/J3/LbfcomeeeUa//e1vddll\n",
              "l7nXBwQEtKoAl8tV78xARESEXC7XBccaU1VV1eB/FqytrW1VXQAAeKsWf/J/6KGHlJ6ertDQUAUF\n",
              "BalHjx4KCgryRG0ttmLFCgUGBtZbcnJy2rssAAA6lBaHf11dnXupra11/9taTqdTR44ccT8uKipy\n",
              "/+XA+cYas2TJEpWXl9dbEhMTW10bAADeqMXh39ZSUlKUlZWl0tJSGWO0evVqTZ8+/YJjjfH391dA\n",
              "QEC9xdfX91LtCgAAnUKLw9/Hx0e+vr4NlsakpaUpLCxMJSUlmjRpkqKioiRJs2fPVlZWliQpMjJS\n",
              "y5Yt09ixYxUVFaXg4GClpaVdcAwAALSOw/x0k/5m+u/7+J89e1Yvvviiamtr9eCDD7Z5cW0hPT1d\n",
              "mZmZ7V0GAAAdRos/+Xfr1s299OrVS+np6dq4caMnagMAAB5w0d/5f/nllzp58mRb1AIAAC6BFv+d\n",
              "f1BQkBwOhyS57+2/atWqtq0KAAB4TIvD/7/v0e/n56fQ0FCuqAcAoBNpcfiHh4frhx9+cP8SEBQU\n",
              "pK5du7Z1XQAAwENaHP47duxQSkqKQkNDJUllZWXatGmTRo8e3ebFAQCAttfi8P/p6v6xY8dKOvfL\n",
              "wP33369PP/20zYsDAABtr8VX+589e9Yd/JI0ZswYVVZWtmlRAADAc1oc/j//+c/14Ycfuh9/9NFH\n",
              "6tatW5sWBQAAPKfFp/3/+te/atq0ae4r/Ovq6rR58+Y2LwwAAHhGi8P/2LFj2r17t8rKyiRJISEh\n",
              "/Le5AAB0Ii0+7Z+RkaHg4GDFxcUpLi5OvXr1UkZGhidqAwAAHnDRt/d1OByqra1ti1oAAMAl0OLw\n",
              "7969u3bs2OF+vH37dnXv3r1NiwIAAJ7T4u/8n3rqKU2dOlUDBgyQJOXn5+utt95q88IAAIBntDj8\n",
              "R48erYMHD2rnzp2Szv2df48ePdq6LgAA4CEtDn/p3P38f/nLX7Z1LQAA4BK46Av+AABA50L4AwBg\n",
              "GcIfAADLEP4AAFiG8AcAwDKEPwAAliH8AQCwDOEPAIBlCH8AACxD+AMAYBnCHwAAyxD+AABYhvAH\n",
              "AMAyhD8AAJbxaPjn5+drzJgxiomJ0ciRI7V///4Gc+rq6vTAAw8oLi5OAwYM0KxZs/Tjjz+6x598\n",
              "8knFxsYqPj5eo0aNUk5OjidLBgDA63k0/NPS0jR37lx99dVXWrx4sVJTUxvMWbdunfbs2aM9e/bo\n",
              "4MGD8vHx0cqVKyVJeXl5+tvf/qacnBzl5eVp3rx5mjdvnidLBgDA63ks/E+cOKHdu3drxowZkqSU\n",
              "lBQVFxeroKCg3ry9e/fq+uuvV5cuXeRwOHTTTTfppZdekiQ5HA5VV1fr+++/lySdPn1aYWFhnioZ\n",
              "AAAr+Hlqw8XFxbryyivl53fuKRwOh5xOp1wul6KiotzzEhIStGbNGs2bN0+XX3653njjDRUVFUmS\n",
              "hg4dqvvvv19XX321evbsKX9/f33yySdNPmdVVZWqqqrqrautrW37nQMAoBNr9wv+UlNTNXnyZCUl\n",
              "JSkpKUkxMTHuXxgKCwu1efNmFRQUqKSkRPfff79uv/32Jre1YsUKBQYG1lu4RgAAgPo8Fv59+/bV\n",
              "8ePHVVNTI0kyxsjlcsnpdNab53A4tHTpUuXm5mrHjh2KjY3VoEGDJEmbNm3S4MGDddVVV0mSZs6c\n",
              "qe3bt9e7IPC/LVmyROXl5fWWxMRET+0iAACdksfCv3fv3ho+fLhefvllSeeCPCwsrN4pf0mqrKzU\n",
              "t99+K0k6efKknnjiCS1atEiSFBkZqe3bt+u7776TJL3zzjuKiYlRly5dGn1Of39/BQQE1Ft8fX09\n",
              "tYsAAHRKHvvOX5LWrFmj1NRULV++XAEBAVq/fr0kafbs2UpOTlZycrLKy8s1YcIE+fj4qK6uTgsW\n",
              "LNCUKVMkSVOnTtWuXbs0YsQI+fv7q1u3bnr11Vc9WTIAAF7PYYwx7V2EJ6WnpyszM7O9ywAAoMNo\n",
              "9wv+AADApUX4AwBgGcIfAADLEP4AAFiG8AcAwDKEPwAAliH8AQCwDOEPAIBlCH8AACxD+AMAYBnC\n",
              "HwAAyxD+AABYhvAHAMAyhD8AAJYh/AEAsAzhDwCAZQh/AAAsQ/gDAGAZwh8AAMsQ/gAAWIbwBwDA\n",
              "MoQ/AACWIfwBALAM4Q8AgGUIfwAALEP4AwBgGcIfAADLEP4AAFiG8AcAwDKEPwAAliH8AQCwjEfD\n",
              "Pz8/X2PGjFFMTIxGjhyp/fv3N5hTV1enBx54QHFxcRowYIBmzZqlH3/80T3ucrk0ZcoU9e/fX7Gx\n",
              "sVq1apUnSwYAwOt5NPzT0tI0d+5cffXVV1q8eLFSU1MbzFm3bp327NmjPXv26ODBg/Lx8dHKlSsl\n",
              "ScYYTZ06VXfddZcOHTqkAwcO6De/+Y0nSwYAwOt5LPxPnDih3bt3a8aMGZKklJQUFRcXq6CgoN68\n",
              "vXv36vrrr1eXLl3kcDh000036aWXXpIkffTRR/L399dtt93mnh8SEuKpkgEAsILHwr+4uFhXXnml\n",
              "/Pz8JEkOh0NOp1Mul6vevISEBGVlZamiokLV1dV64403VFRUJEk6cOCAgoODNX36dA0bNkxTp07V\n",
              "119/3eRzVlVVqaKiot5SW1vrqV0EAKBTavcL/lJTUzV58mQlJSUpKSlJMTEx7l8YampqtGXLFmVk\n",
              "ZCg3N1eTJk0672n/FStWKDAwsN6Sk5NzqXYFAIBOwWPh37dvXx0/flw1NTWSzn1/73K55HQ6681z\n",
              "OBxaunSpcnNztWPHDsXGxmrQoEGSJKfTqWHDhrkf/+53v9OePXtUXV3d6HMuWbJE5eXl9ZbExERP\n",
              "7SIAAJ2Sx8K/d+/eGj58uF5++WVJ0qZNmxQWFqaoqKh68yorK/Xtt99Kkk6ePKknnnhCixYtkiTd\n",
              "dNNNKikp0dGjRyVJ7733ngYOHKif/exnjT6nv7+/AgIC6i2+vr6e2kUAADolP09ufM2aNUpNTdXy\n",
              "5csVEBCg9evXS5Jmz56t5ORkJScnq7y8XBMmTJCPj4/q6uq0YMECTZkyRZLUrVs3rV69Wr/61a9k\n",
              "jFFgYKBee+01T5YMAIDXcxhjTHsX4Unp6enKzMxs7zIAAOgw2v2CPwAAcGkR/gAAWIbwBwDAMoQ/\n",
              "AACWIfwBALAM4Q8AgGUIfwAALEP4AwBgGcIfAADLEP4AAFiG8AcAwDKEPwAAliH8AQCwDOEPAIBl\n",
              "CH8AACxD+AMAYBnCHwAAyxD+AABYhvAHAMAyhD8AAJYh/AEAsAzhDwCAZQh/AAAsQ/gDAGAZwh8A\n",
              "AMs4jDGmvYvwpGnTpikiIuK8c2pra5WTk6PExET5+vpemsI6AfrSED1pHH1pHH1piJ40rrl9CQ8P\n",
              "14IFCy76+bw+/JujoqJCgYGBKi8vV0BAQHuX02HQl4boSePoS+PoS0P0pHGXui+c9gcAwDKEPwAA\n",
              "liH8AQCwDOEvyd/fX48++qj8/f3bu5QOhb40RE8aR18aR18aoieNu9R94YI/AAAswyd/AAAsQ/gD\n",
              "AGAZwh8AAMt4TfjPnz9fERERcjgcysvLc6/Pz8/XmDFjFBMTo5EjR2r//v3usffee0/Dhw9XfHy8\n",
              "4uLi9MILL7jHTpw4ocmTJys6OlpxcXH65JNPmjXWkTTVk6bWS+fvV2vHOpqW9qWyslK33HKLYmJi\n",
              "NHToUN1www0qKChwj3vDa0Vq3evlJ+vXr5fD4dDbb7/tXucNfWlNT6qqqjRv3jxFR0dr8ODBmjFj\n",
              "hnvM1veQ5P3HW6nx/ffU8eOi+2K8xNatW01xcbEJDw83ubm57vXXXnutWb9+vTHGmDfffNOMGDHC\n",
              "GGNMXV2dCQoKMnv37jXGGFNYWGj8/f1NRUWFMcaYmTNnmkcffdQYY0xOTo7p06eP+fHHHy841pE0\n",
              "1ZOm1hvTdL8uZqyjaWlfzp49a959911TV1dnjDFm1apVJikpyT3uDa8VY1r3ejHm3Htn9OjRZtSo\n",
              "Ueatt95yr/eGvrSmJwsXLjTz5s1zv16OHz/uHrP1PWTD8daYxvffU8ePi+2L14T/T/676WVlZaZ7\n",
              "9+6murraGHPuBRgSEmLy8/NNXV2d6dmzp9m6dasxxpi9e/eaq666ylRVVRljjOnWrVu9N+3IkSPN\n",
              "Bx98cMGxjqipg/b/rj9fv1o71pE1ty//a9euXSY8PNz92JteK8a0rC+1tbVm4sSJZvfu3SYpKale\n",
              "+HtTX5rbk++++850797dlJeXN5hr83vIpuOtMec/hrTV8eNi++I1p/0bU1xcrCuvvFJ+fn6SJIfD\n",
              "IafTKZfLJYfDoddff13Tpk1TeHi4xo0bpxdeeEFdunTRqVOnVF1drdDQUPe2IiIi5HK5zjvW2Z2v\n",
              "X60d80YrV67UzTffLEnWvlZ+kpmZqbFjxyohIaHeelv7cvjwYfXs2VPLly/XiBEjdM011+ijjz6S\n",
              "1Pr3lzfgePv/2uL40RZ98WuDfemUampq9Mc//lGbN2/W+PHjtWvXLiUnJ+uLL76Qw+Fo7/LQQS1f\n",
              "vlwFBQXuA7rN9u3bp02bNnXo72AvtZqaGh05ckSxsbF64oknlJubqxtuuKFDf39/KXC8PacjHT+8\n",
              "+pN/3759dfz4cdXU1EiSjDFyuVxyOp3Ky8vTsWPHNH78eEnSyJEjFRYWptzcXF1xxRXy8/NTaWmp\n",
              "e1tFRUVyOp3nHevsztev1o55k6efflqbN2/Wv/71L3Xt2lWSrH2tSFJ2draKiooUHR2tiIgIffrp\n",
              "p5o7d67+/ve/W9sXp9MpHx8f3XnnnZKkYcOG6eqrr9YXX3xh9XuI423bHj/aoi9eHf69e/fW8OHD\n",
              "9fLLL0uSNm3apLCwMEVFRbnfbAcPHpQkFRQU6PDhw+rfv78k6bbbbtPq1aslSbt27dLRo0eVlJR0\n",
              "wbHO7Hz9au2Yt8jMzNSGDRv0wQcfqEePHvXGbHytSNK9996r48ePq6ioSEVFRRo1apTWrl2re++9\n",
              "V5KdfenVq5cmTpyo//znP5KkwsJCFRYWauDAgVa/h2w/3nri+HHRfWn21QEd3Ny5c02fPn2Mr6+v\n",
              "6d27t+nXr58xxpgvv/zSjBo1ykRHR5uEhATz+eefu3/m1VdfNXFxcWbIkCEmLi7OvPLKK+6x0tJS\n",
              "c8MNN5ioqCgTGxtrtmzZ0qyxjqSpnjS13pjz96u1Yx1NS/tSXFxsJJnIyEgzdOhQM3ToUJOYmOje\n",
              "nje8Voxp3evlv/3vBX/e0JfW9OTw4cNmwoQJ7mPLxo0b3WO2voeM8f7jrTGN77+njh8X2xfu7Q8A\n",
              "gGW8+rQ/AABoiPAHAMAyhD8AAJYh/AEvV1NTo2XLlmnAgAGKi4tTfHy85s6dq9OnT+vo0aOaPn26\n",
              "IiMjFR0draSkJH366afun126dKkWLlxYb3vPP/+8brnlFknSxx9/LIfDoccff9w9vm/fPkVEREiS\n",
              "4uPjFR8fr9jYWPn6+rof33777ZKkH374QSNGjNCZM2f00+VHzz//vD7++GNJ5/7kraysTImJie4/\n",
              "gwNw8Qh/wMvNmjVLu3fv1s6dO7Vv3z73jWeOHj2qCRMmaNiwYfr666+Vn5+vRx55RFOmTNG+ffua\n",
              "vf3Q0FCtWrVKJ0+ebDCWl5envLw8vffee+revbv78euvvy5JevbZZ3XzzTere/fuys7O1n333adj\n",
              "x47p0KFDmjlzpg4dOqSQkBCNGTNGL774Ypv1BLCdtXf4A2xQUFCgN998Uy6XS0FBQZLO3Wr1tttu\n",
              "0z//+U8FBQVp8eLF7vkTJ07UzJkz9dRTTzU7bENCQjRx4kQ9/vjjWrlyZYvqW7Nmjd5//31J0vjx\n",
              "4xUWFqZx48apZ8+e2rp1q6644gpJ0h133KH58+fr7rvvbtH2ATSOT/6AF9uzZ4+io6PVq1evRsdG\n",
              "jx7dYP3o0aP12Wefteh5HnroIW3YsEGFhYXN/pni4mKVl5erX79+ks7dMTAzM1P33Xeffv/732vR\n",
              "okU6dOiQJCkhIUGff/65KioqWlQXgMYR/gCa1NR91/93fc+ePbVw4UI9/PDDzd52SUmJQkJC3I/H\n",
              "jRunZ599Vn369FH//v21bt06xcTESJL8/PwUFBSkY8eOtWIvAPwvwh/wYsOHD1d+fr5OnTrV6NjO\n",
              "nTsbrN+5c6eGDx8uSQoODm7wsydPnlTv3r0b/NzChQu1detW5ebmNqu2rl27qrKy0v34p18oUlNT\n",
              "NWHChHrrJKmyslKXX355s7YN4PwIf8CLRUVFKSUlRbNmzdLp06clnbuCftOmTRo9erROnTqlJ598\n",
              "0j1/y5Yteu655/Tggw9Kkq677jp9+OGH7v8qtKKiQq+88opuvPHGBs/VtWtXZWRk6JFHHmlWbf37\n",
              "99eJEyd09uzZC84tKyuTw+FQ3759m7VtAOdH+ANe7rnnntPQoUP1i1/8QoMGDVJsbKzef/999enT\n",
              "Rx9//LE+++wzXX311YqOjtbSpUuVlZWlIUOGSJIGDBigVatWadq0aYqPj9e4ceN0xx13KCUlpdHn\n",
              "mjVrlrp06dKsui677DLdeOON2rJlywXn/vvf/9bUqVPl48MhC2gL3NsfQLvJycnRY489pnfeeee8\n",
              "86655hqtXbtWAwcOvESVAd6NX6MBtJvExERNmzZNZ86caXJOWVmZ7r33XoIfaEN88gcAwDJ88gcA\n",
              "wDKEPwAAliH8AQCwDOEPAIBlCH8AACxD+AMAYBnCHwAAyxD+AABY5v8ATEvSAaNGwnYAAAAASUVO\n",
              "RK5CYII=\n",
              "\">\n",
              "        \n",
              "      </div>\n",
              "      <script></script>\n",
              "      <script type=\"text/javascript\">\n",
              "        (() => {\n",
              "          const chartElement = document.getElementById(\"chart-f42186fa-f880-4371-acfc-bf3d269cf8f8\");\n",
              "          async function getCodeForChartHandler(event) {\n",
              "            const chartCodeResponse =  await google.colab.kernel.invokeFunction(\n",
              "                'getCodeForChart', [\"chart-f42186fa-f880-4371-acfc-bf3d269cf8f8\"], {});\n",
              "            const responseJson = chartCodeResponse.data['application/json'];\n",
              "            await google.colab.notebook.addCell(responseJson.code, 'code');\n",
              "          }\n",
              "          chartElement.onclick = getCodeForChartHandler;\n",
              "        })();\n",
              "      </script>\n",
              "      <style>\n",
              "        .colab-quickchart-chart-with-code  {\n",
              "            display: block;\n",
              "            float: left;\n",
              "            border: 1px solid transparent;\n",
              "        }\n",
              "\n",
              "        .colab-quickchart-chart-with-code:hover {\n",
              "            cursor: pointer;\n",
              "            border: 1px solid #aaa;\n",
              "        }\n",
              "      </style>"
            ]
          },
          "metadata": {}
        }
      ],
      "source": [
        "# print how many rows are there in the table named 'master'\n",
        "QUERY = \"\"\"\n",
        "SELECT COUNT(*)\n",
        "FROM master\n",
        "\"\"\"\n",
        "\n",
        "# the read_sql_query runs the sql query and returns the data as a dataframe\n",
        "df = pd.read_sql_query(QUERY,conn)\n",
        "df.head()"
      ]
    },
    {
      "cell_type": "markdown",
      "metadata": {
        "id": "9XkuDgDnfA_h"
      },
      "source": [
        "## Demo: How to list all tables\n"
      ]
    },
    {
      "cell_type": "code",
      "execution_count": null,
      "metadata": {
        "scrolled": true,
        "colab": {
          "base_uri": "https://localhost:8080/",
          "height": 802
        },
        "id": "UkjoP9ZEfA_h",
        "outputId": "11db2d86-18a4-45ba-9e02-34b9e012de3f"
      },
      "outputs": [
        {
          "output_type": "execute_result",
          "data": {
            "text/plain": [
              "                Table_Name\n",
              "0                 EduOther\n",
              "1                  DevType\n",
              "2                  LastInt\n",
              "3               JobFactors\n",
              "4                 WorkPlan\n",
              "5            WorkChallenge\n",
              "6       LanguageWorkedWith\n",
              "7   LanguageDesireNextYear\n",
              "8       DatabaseWorkedWith\n",
              "9   DatabaseDesireNextYear\n",
              "10      PlatformWorkedWith\n",
              "11  PlatformDesireNextYear\n",
              "12      WebFrameWorkedWith\n",
              "13  WebFrameDesireNextYear\n",
              "14      MiscTechWorkedWith\n",
              "15  MiscTechDesireNextYear\n",
              "16              DevEnviron\n",
              "17              Containers\n",
              "18               SOVisitTo\n",
              "19            SONewContent\n",
              "20                  Gender\n",
              "21               Sexuality\n",
              "22               Ethnicity\n",
              "23                  master"
            ],
            "text/html": [
              "\n",
              "  <div id=\"df-131390ec-8731-4e07-bef1-462042f557cd\" class=\"colab-df-container\">\n",
              "    <div>\n",
              "<style scoped>\n",
              "    .dataframe tbody tr th:only-of-type {\n",
              "        vertical-align: middle;\n",
              "    }\n",
              "\n",
              "    .dataframe tbody tr th {\n",
              "        vertical-align: top;\n",
              "    }\n",
              "\n",
              "    .dataframe thead th {\n",
              "        text-align: right;\n",
              "    }\n",
              "</style>\n",
              "<table border=\"1\" class=\"dataframe\">\n",
              "  <thead>\n",
              "    <tr style=\"text-align: right;\">\n",
              "      <th></th>\n",
              "      <th>Table_Name</th>\n",
              "    </tr>\n",
              "  </thead>\n",
              "  <tbody>\n",
              "    <tr>\n",
              "      <th>0</th>\n",
              "      <td>EduOther</td>\n",
              "    </tr>\n",
              "    <tr>\n",
              "      <th>1</th>\n",
              "      <td>DevType</td>\n",
              "    </tr>\n",
              "    <tr>\n",
              "      <th>2</th>\n",
              "      <td>LastInt</td>\n",
              "    </tr>\n",
              "    <tr>\n",
              "      <th>3</th>\n",
              "      <td>JobFactors</td>\n",
              "    </tr>\n",
              "    <tr>\n",
              "      <th>4</th>\n",
              "      <td>WorkPlan</td>\n",
              "    </tr>\n",
              "    <tr>\n",
              "      <th>5</th>\n",
              "      <td>WorkChallenge</td>\n",
              "    </tr>\n",
              "    <tr>\n",
              "      <th>6</th>\n",
              "      <td>LanguageWorkedWith</td>\n",
              "    </tr>\n",
              "    <tr>\n",
              "      <th>7</th>\n",
              "      <td>LanguageDesireNextYear</td>\n",
              "    </tr>\n",
              "    <tr>\n",
              "      <th>8</th>\n",
              "      <td>DatabaseWorkedWith</td>\n",
              "    </tr>\n",
              "    <tr>\n",
              "      <th>9</th>\n",
              "      <td>DatabaseDesireNextYear</td>\n",
              "    </tr>\n",
              "    <tr>\n",
              "      <th>10</th>\n",
              "      <td>PlatformWorkedWith</td>\n",
              "    </tr>\n",
              "    <tr>\n",
              "      <th>11</th>\n",
              "      <td>PlatformDesireNextYear</td>\n",
              "    </tr>\n",
              "    <tr>\n",
              "      <th>12</th>\n",
              "      <td>WebFrameWorkedWith</td>\n",
              "    </tr>\n",
              "    <tr>\n",
              "      <th>13</th>\n",
              "      <td>WebFrameDesireNextYear</td>\n",
              "    </tr>\n",
              "    <tr>\n",
              "      <th>14</th>\n",
              "      <td>MiscTechWorkedWith</td>\n",
              "    </tr>\n",
              "    <tr>\n",
              "      <th>15</th>\n",
              "      <td>MiscTechDesireNextYear</td>\n",
              "    </tr>\n",
              "    <tr>\n",
              "      <th>16</th>\n",
              "      <td>DevEnviron</td>\n",
              "    </tr>\n",
              "    <tr>\n",
              "      <th>17</th>\n",
              "      <td>Containers</td>\n",
              "    </tr>\n",
              "    <tr>\n",
              "      <th>18</th>\n",
              "      <td>SOVisitTo</td>\n",
              "    </tr>\n",
              "    <tr>\n",
              "      <th>19</th>\n",
              "      <td>SONewContent</td>\n",
              "    </tr>\n",
              "    <tr>\n",
              "      <th>20</th>\n",
              "      <td>Gender</td>\n",
              "    </tr>\n",
              "    <tr>\n",
              "      <th>21</th>\n",
              "      <td>Sexuality</td>\n",
              "    </tr>\n",
              "    <tr>\n",
              "      <th>22</th>\n",
              "      <td>Ethnicity</td>\n",
              "    </tr>\n",
              "    <tr>\n",
              "      <th>23</th>\n",
              "      <td>master</td>\n",
              "    </tr>\n",
              "  </tbody>\n",
              "</table>\n",
              "</div>\n",
              "    <div class=\"colab-df-buttons\">\n",
              "\n",
              "  <div class=\"colab-df-container\">\n",
              "    <button class=\"colab-df-convert\" onclick=\"convertToInteractive('df-131390ec-8731-4e07-bef1-462042f557cd')\"\n",
              "            title=\"Convert this dataframe to an interactive table.\"\n",
              "            style=\"display:none;\">\n",
              "\n",
              "  <svg xmlns=\"http://www.w3.org/2000/svg\" height=\"24px\" viewBox=\"0 -960 960 960\">\n",
              "    <path d=\"M120-120v-720h720v720H120Zm60-500h600v-160H180v160Zm220 220h160v-160H400v160Zm0 220h160v-160H400v160ZM180-400h160v-160H180v160Zm440 0h160v-160H620v160ZM180-180h160v-160H180v160Zm440 0h160v-160H620v160Z\"/>\n",
              "  </svg>\n",
              "    </button>\n",
              "\n",
              "  <style>\n",
              "    .colab-df-container {\n",
              "      display:flex;\n",
              "      gap: 12px;\n",
              "    }\n",
              "\n",
              "    .colab-df-convert {\n",
              "      background-color: #E8F0FE;\n",
              "      border: none;\n",
              "      border-radius: 50%;\n",
              "      cursor: pointer;\n",
              "      display: none;\n",
              "      fill: #1967D2;\n",
              "      height: 32px;\n",
              "      padding: 0 0 0 0;\n",
              "      width: 32px;\n",
              "    }\n",
              "\n",
              "    .colab-df-convert:hover {\n",
              "      background-color: #E2EBFA;\n",
              "      box-shadow: 0px 1px 2px rgba(60, 64, 67, 0.3), 0px 1px 3px 1px rgba(60, 64, 67, 0.15);\n",
              "      fill: #174EA6;\n",
              "    }\n",
              "\n",
              "    .colab-df-buttons div {\n",
              "      margin-bottom: 4px;\n",
              "    }\n",
              "\n",
              "    [theme=dark] .colab-df-convert {\n",
              "      background-color: #3B4455;\n",
              "      fill: #D2E3FC;\n",
              "    }\n",
              "\n",
              "    [theme=dark] .colab-df-convert:hover {\n",
              "      background-color: #434B5C;\n",
              "      box-shadow: 0px 1px 3px 1px rgba(0, 0, 0, 0.15);\n",
              "      filter: drop-shadow(0px 1px 2px rgba(0, 0, 0, 0.3));\n",
              "      fill: #FFFFFF;\n",
              "    }\n",
              "  </style>\n",
              "\n",
              "    <script>\n",
              "      const buttonEl =\n",
              "        document.querySelector('#df-131390ec-8731-4e07-bef1-462042f557cd button.colab-df-convert');\n",
              "      buttonEl.style.display =\n",
              "        google.colab.kernel.accessAllowed ? 'block' : 'none';\n",
              "\n",
              "      async function convertToInteractive(key) {\n",
              "        const element = document.querySelector('#df-131390ec-8731-4e07-bef1-462042f557cd');\n",
              "        const dataTable =\n",
              "          await google.colab.kernel.invokeFunction('convertToInteractive',\n",
              "                                                    [key], {});\n",
              "        if (!dataTable) return;\n",
              "\n",
              "        const docLinkHtml = 'Like what you see? Visit the ' +\n",
              "          '<a target=\"_blank\" href=https://colab.research.google.com/notebooks/data_table.ipynb>data table notebook</a>'\n",
              "          + ' to learn more about interactive tables.';\n",
              "        element.innerHTML = '';\n",
              "        dataTable['output_type'] = 'display_data';\n",
              "        await google.colab.output.renderOutput(dataTable, element);\n",
              "        const docLink = document.createElement('div');\n",
              "        docLink.innerHTML = docLinkHtml;\n",
              "        element.appendChild(docLink);\n",
              "      }\n",
              "    </script>\n",
              "  </div>\n",
              "\n",
              "\n",
              "<div id=\"df-8580cc50-3d87-4e96-95ce-84549887698d\">\n",
              "  <button class=\"colab-df-quickchart\" onclick=\"quickchart('df-8580cc50-3d87-4e96-95ce-84549887698d')\"\n",
              "            title=\"Suggest charts.\"\n",
              "            style=\"display:none;\">\n",
              "\n",
              "<svg xmlns=\"http://www.w3.org/2000/svg\" height=\"24px\"viewBox=\"0 0 24 24\"\n",
              "     width=\"24px\">\n",
              "    <g>\n",
              "        <path d=\"M19 3H5c-1.1 0-2 .9-2 2v14c0 1.1.9 2 2 2h14c1.1 0 2-.9 2-2V5c0-1.1-.9-2-2-2zM9 17H7v-7h2v7zm4 0h-2V7h2v10zm4 0h-2v-4h2v4z\"/>\n",
              "    </g>\n",
              "</svg>\n",
              "  </button>\n",
              "\n",
              "<style>\n",
              "  .colab-df-quickchart {\n",
              "    background-color: #E8F0FE;\n",
              "    border: none;\n",
              "    border-radius: 50%;\n",
              "    cursor: pointer;\n",
              "    display: none;\n",
              "    fill: #1967D2;\n",
              "    height: 32px;\n",
              "    padding: 0 0 0 0;\n",
              "    width: 32px;\n",
              "  }\n",
              "\n",
              "  .colab-df-quickchart:hover {\n",
              "    background-color: #E2EBFA;\n",
              "    box-shadow: 0px 1px 2px rgba(60, 64, 67, 0.3), 0px 1px 3px 1px rgba(60, 64, 67, 0.15);\n",
              "    fill: #174EA6;\n",
              "  }\n",
              "\n",
              "  [theme=dark] .colab-df-quickchart {\n",
              "    background-color: #3B4455;\n",
              "    fill: #D2E3FC;\n",
              "  }\n",
              "\n",
              "  [theme=dark] .colab-df-quickchart:hover {\n",
              "    background-color: #434B5C;\n",
              "    box-shadow: 0px 1px 3px 1px rgba(0, 0, 0, 0.15);\n",
              "    filter: drop-shadow(0px 1px 2px rgba(0, 0, 0, 0.3));\n",
              "    fill: #FFFFFF;\n",
              "  }\n",
              "</style>\n",
              "\n",
              "  <script>\n",
              "    async function quickchart(key) {\n",
              "      const charts = await google.colab.kernel.invokeFunction(\n",
              "          'suggestCharts', [key], {});\n",
              "    }\n",
              "    (() => {\n",
              "      let quickchartButtonEl =\n",
              "        document.querySelector('#df-8580cc50-3d87-4e96-95ce-84549887698d button');\n",
              "      quickchartButtonEl.style.display =\n",
              "        google.colab.kernel.accessAllowed ? 'block' : 'none';\n",
              "    })();\n",
              "  </script>\n",
              "</div>\n",
              "    </div>\n",
              "  </div>\n"
            ]
          },
          "metadata": {},
          "execution_count": 5
        }
      ],
      "source": [
        "# print all the tables names in the database\n",
        "QUERY = \"\"\"\n",
        "SELECT name as Table_Name FROM\n",
        "sqlite_master WHERE\n",
        "type = 'table'\n",
        "\"\"\"\n",
        "# the read_sql_query runs the sql query and returns the data as a dataframe\n",
        "pd.read_sql_query(QUERY,conn)\n"
      ]
    },
    {
      "cell_type": "markdown",
      "metadata": {
        "id": "1_dDXHXhfA_i"
      },
      "source": [
        "## Demo: How to run a group by query\n"
      ]
    },
    {
      "cell_type": "code",
      "execution_count": null,
      "metadata": {
        "colab": {
          "base_uri": "https://localhost:8080/",
          "height": 1000
        },
        "id": "eL7WXHBmfA_i",
        "outputId": "3975cca1-20f3-4cfb-ee32-a1f2e9139395"
      },
      "outputs": [
        {
          "output_type": "execute_result",
          "data": {
            "text/plain": [
              "     Age  count\n",
              "0    NaN    287\n",
              "1   16.0      3\n",
              "2   17.0      6\n",
              "3   18.0     29\n",
              "4   19.0     78\n",
              "5   20.0    109\n",
              "6   21.0    203\n",
              "7   22.0    406\n",
              "8   23.0    581\n",
              "9   24.0    679\n",
              "10  25.0    738\n",
              "11  26.0    720\n",
              "12  27.0    724\n",
              "13  28.0    787\n",
              "14  29.0    697\n",
              "15  30.0    651\n",
              "16  31.0    531\n",
              "17  32.0    489\n",
              "18  33.0    483\n",
              "19  34.0    395\n",
              "20  35.0    393\n",
              "21  36.0    308\n",
              "22  37.0    280\n",
              "23  38.0    279\n",
              "24  39.0    232\n",
              "25  40.0    187\n",
              "26  41.0    136\n",
              "27  42.0    162\n",
              "28  43.0    100\n",
              "29  44.0     95\n",
              "30  45.0     85\n",
              "31  46.0     66\n",
              "32  47.0     68\n",
              "33  48.0     64\n",
              "34  49.0     66\n",
              "35  50.0     57\n",
              "36  51.0     29\n",
              "37  52.0     41\n",
              "38  53.0     32\n",
              "39  54.0     26\n",
              "40  55.0     13\n",
              "41  56.0     16\n",
              "42  57.0     11\n",
              "43  58.0     12\n",
              "44  59.0     11\n",
              "45  60.0      2\n",
              "46  61.0     10\n",
              "47  62.0      5\n",
              "48  63.0      7\n",
              "49  65.0      2\n",
              "50  66.0      1\n",
              "51  67.0      1\n",
              "52  69.0      1\n",
              "53  71.0      2\n",
              "54  72.0      1\n",
              "55  99.0      1"
            ],
            "text/html": [
              "\n",
              "  <div id=\"df-e8e093e6-5714-43d0-8e54-27f2d9d39375\" class=\"colab-df-container\">\n",
              "    <div>\n",
              "<style scoped>\n",
              "    .dataframe tbody tr th:only-of-type {\n",
              "        vertical-align: middle;\n",
              "    }\n",
              "\n",
              "    .dataframe tbody tr th {\n",
              "        vertical-align: top;\n",
              "    }\n",
              "\n",
              "    .dataframe thead th {\n",
              "        text-align: right;\n",
              "    }\n",
              "</style>\n",
              "<table border=\"1\" class=\"dataframe\">\n",
              "  <thead>\n",
              "    <tr style=\"text-align: right;\">\n",
              "      <th></th>\n",
              "      <th>Age</th>\n",
              "      <th>count</th>\n",
              "    </tr>\n",
              "  </thead>\n",
              "  <tbody>\n",
              "    <tr>\n",
              "      <th>0</th>\n",
              "      <td>NaN</td>\n",
              "      <td>287</td>\n",
              "    </tr>\n",
              "    <tr>\n",
              "      <th>1</th>\n",
              "      <td>16.0</td>\n",
              "      <td>3</td>\n",
              "    </tr>\n",
              "    <tr>\n",
              "      <th>2</th>\n",
              "      <td>17.0</td>\n",
              "      <td>6</td>\n",
              "    </tr>\n",
              "    <tr>\n",
              "      <th>3</th>\n",
              "      <td>18.0</td>\n",
              "      <td>29</td>\n",
              "    </tr>\n",
              "    <tr>\n",
              "      <th>4</th>\n",
              "      <td>19.0</td>\n",
              "      <td>78</td>\n",
              "    </tr>\n",
              "    <tr>\n",
              "      <th>5</th>\n",
              "      <td>20.0</td>\n",
              "      <td>109</td>\n",
              "    </tr>\n",
              "    <tr>\n",
              "      <th>6</th>\n",
              "      <td>21.0</td>\n",
              "      <td>203</td>\n",
              "    </tr>\n",
              "    <tr>\n",
              "      <th>7</th>\n",
              "      <td>22.0</td>\n",
              "      <td>406</td>\n",
              "    </tr>\n",
              "    <tr>\n",
              "      <th>8</th>\n",
              "      <td>23.0</td>\n",
              "      <td>581</td>\n",
              "    </tr>\n",
              "    <tr>\n",
              "      <th>9</th>\n",
              "      <td>24.0</td>\n",
              "      <td>679</td>\n",
              "    </tr>\n",
              "    <tr>\n",
              "      <th>10</th>\n",
              "      <td>25.0</td>\n",
              "      <td>738</td>\n",
              "    </tr>\n",
              "    <tr>\n",
              "      <th>11</th>\n",
              "      <td>26.0</td>\n",
              "      <td>720</td>\n",
              "    </tr>\n",
              "    <tr>\n",
              "      <th>12</th>\n",
              "      <td>27.0</td>\n",
              "      <td>724</td>\n",
              "    </tr>\n",
              "    <tr>\n",
              "      <th>13</th>\n",
              "      <td>28.0</td>\n",
              "      <td>787</td>\n",
              "    </tr>\n",
              "    <tr>\n",
              "      <th>14</th>\n",
              "      <td>29.0</td>\n",
              "      <td>697</td>\n",
              "    </tr>\n",
              "    <tr>\n",
              "      <th>15</th>\n",
              "      <td>30.0</td>\n",
              "      <td>651</td>\n",
              "    </tr>\n",
              "    <tr>\n",
              "      <th>16</th>\n",
              "      <td>31.0</td>\n",
              "      <td>531</td>\n",
              "    </tr>\n",
              "    <tr>\n",
              "      <th>17</th>\n",
              "      <td>32.0</td>\n",
              "      <td>489</td>\n",
              "    </tr>\n",
              "    <tr>\n",
              "      <th>18</th>\n",
              "      <td>33.0</td>\n",
              "      <td>483</td>\n",
              "    </tr>\n",
              "    <tr>\n",
              "      <th>19</th>\n",
              "      <td>34.0</td>\n",
              "      <td>395</td>\n",
              "    </tr>\n",
              "    <tr>\n",
              "      <th>20</th>\n",
              "      <td>35.0</td>\n",
              "      <td>393</td>\n",
              "    </tr>\n",
              "    <tr>\n",
              "      <th>21</th>\n",
              "      <td>36.0</td>\n",
              "      <td>308</td>\n",
              "    </tr>\n",
              "    <tr>\n",
              "      <th>22</th>\n",
              "      <td>37.0</td>\n",
              "      <td>280</td>\n",
              "    </tr>\n",
              "    <tr>\n",
              "      <th>23</th>\n",
              "      <td>38.0</td>\n",
              "      <td>279</td>\n",
              "    </tr>\n",
              "    <tr>\n",
              "      <th>24</th>\n",
              "      <td>39.0</td>\n",
              "      <td>232</td>\n",
              "    </tr>\n",
              "    <tr>\n",
              "      <th>25</th>\n",
              "      <td>40.0</td>\n",
              "      <td>187</td>\n",
              "    </tr>\n",
              "    <tr>\n",
              "      <th>26</th>\n",
              "      <td>41.0</td>\n",
              "      <td>136</td>\n",
              "    </tr>\n",
              "    <tr>\n",
              "      <th>27</th>\n",
              "      <td>42.0</td>\n",
              "      <td>162</td>\n",
              "    </tr>\n",
              "    <tr>\n",
              "      <th>28</th>\n",
              "      <td>43.0</td>\n",
              "      <td>100</td>\n",
              "    </tr>\n",
              "    <tr>\n",
              "      <th>29</th>\n",
              "      <td>44.0</td>\n",
              "      <td>95</td>\n",
              "    </tr>\n",
              "    <tr>\n",
              "      <th>30</th>\n",
              "      <td>45.0</td>\n",
              "      <td>85</td>\n",
              "    </tr>\n",
              "    <tr>\n",
              "      <th>31</th>\n",
              "      <td>46.0</td>\n",
              "      <td>66</td>\n",
              "    </tr>\n",
              "    <tr>\n",
              "      <th>32</th>\n",
              "      <td>47.0</td>\n",
              "      <td>68</td>\n",
              "    </tr>\n",
              "    <tr>\n",
              "      <th>33</th>\n",
              "      <td>48.0</td>\n",
              "      <td>64</td>\n",
              "    </tr>\n",
              "    <tr>\n",
              "      <th>34</th>\n",
              "      <td>49.0</td>\n",
              "      <td>66</td>\n",
              "    </tr>\n",
              "    <tr>\n",
              "      <th>35</th>\n",
              "      <td>50.0</td>\n",
              "      <td>57</td>\n",
              "    </tr>\n",
              "    <tr>\n",
              "      <th>36</th>\n",
              "      <td>51.0</td>\n",
              "      <td>29</td>\n",
              "    </tr>\n",
              "    <tr>\n",
              "      <th>37</th>\n",
              "      <td>52.0</td>\n",
              "      <td>41</td>\n",
              "    </tr>\n",
              "    <tr>\n",
              "      <th>38</th>\n",
              "      <td>53.0</td>\n",
              "      <td>32</td>\n",
              "    </tr>\n",
              "    <tr>\n",
              "      <th>39</th>\n",
              "      <td>54.0</td>\n",
              "      <td>26</td>\n",
              "    </tr>\n",
              "    <tr>\n",
              "      <th>40</th>\n",
              "      <td>55.0</td>\n",
              "      <td>13</td>\n",
              "    </tr>\n",
              "    <tr>\n",
              "      <th>41</th>\n",
              "      <td>56.0</td>\n",
              "      <td>16</td>\n",
              "    </tr>\n",
              "    <tr>\n",
              "      <th>42</th>\n",
              "      <td>57.0</td>\n",
              "      <td>11</td>\n",
              "    </tr>\n",
              "    <tr>\n",
              "      <th>43</th>\n",
              "      <td>58.0</td>\n",
              "      <td>12</td>\n",
              "    </tr>\n",
              "    <tr>\n",
              "      <th>44</th>\n",
              "      <td>59.0</td>\n",
              "      <td>11</td>\n",
              "    </tr>\n",
              "    <tr>\n",
              "      <th>45</th>\n",
              "      <td>60.0</td>\n",
              "      <td>2</td>\n",
              "    </tr>\n",
              "    <tr>\n",
              "      <th>46</th>\n",
              "      <td>61.0</td>\n",
              "      <td>10</td>\n",
              "    </tr>\n",
              "    <tr>\n",
              "      <th>47</th>\n",
              "      <td>62.0</td>\n",
              "      <td>5</td>\n",
              "    </tr>\n",
              "    <tr>\n",
              "      <th>48</th>\n",
              "      <td>63.0</td>\n",
              "      <td>7</td>\n",
              "    </tr>\n",
              "    <tr>\n",
              "      <th>49</th>\n",
              "      <td>65.0</td>\n",
              "      <td>2</td>\n",
              "    </tr>\n",
              "    <tr>\n",
              "      <th>50</th>\n",
              "      <td>66.0</td>\n",
              "      <td>1</td>\n",
              "    </tr>\n",
              "    <tr>\n",
              "      <th>51</th>\n",
              "      <td>67.0</td>\n",
              "      <td>1</td>\n",
              "    </tr>\n",
              "    <tr>\n",
              "      <th>52</th>\n",
              "      <td>69.0</td>\n",
              "      <td>1</td>\n",
              "    </tr>\n",
              "    <tr>\n",
              "      <th>53</th>\n",
              "      <td>71.0</td>\n",
              "      <td>2</td>\n",
              "    </tr>\n",
              "    <tr>\n",
              "      <th>54</th>\n",
              "      <td>72.0</td>\n",
              "      <td>1</td>\n",
              "    </tr>\n",
              "    <tr>\n",
              "      <th>55</th>\n",
              "      <td>99.0</td>\n",
              "      <td>1</td>\n",
              "    </tr>\n",
              "  </tbody>\n",
              "</table>\n",
              "</div>\n",
              "    <div class=\"colab-df-buttons\">\n",
              "\n",
              "  <div class=\"colab-df-container\">\n",
              "    <button class=\"colab-df-convert\" onclick=\"convertToInteractive('df-e8e093e6-5714-43d0-8e54-27f2d9d39375')\"\n",
              "            title=\"Convert this dataframe to an interactive table.\"\n",
              "            style=\"display:none;\">\n",
              "\n",
              "  <svg xmlns=\"http://www.w3.org/2000/svg\" height=\"24px\" viewBox=\"0 -960 960 960\">\n",
              "    <path d=\"M120-120v-720h720v720H120Zm60-500h600v-160H180v160Zm220 220h160v-160H400v160Zm0 220h160v-160H400v160ZM180-400h160v-160H180v160Zm440 0h160v-160H620v160ZM180-180h160v-160H180v160Zm440 0h160v-160H620v160Z\"/>\n",
              "  </svg>\n",
              "    </button>\n",
              "\n",
              "  <style>\n",
              "    .colab-df-container {\n",
              "      display:flex;\n",
              "      gap: 12px;\n",
              "    }\n",
              "\n",
              "    .colab-df-convert {\n",
              "      background-color: #E8F0FE;\n",
              "      border: none;\n",
              "      border-radius: 50%;\n",
              "      cursor: pointer;\n",
              "      display: none;\n",
              "      fill: #1967D2;\n",
              "      height: 32px;\n",
              "      padding: 0 0 0 0;\n",
              "      width: 32px;\n",
              "    }\n",
              "\n",
              "    .colab-df-convert:hover {\n",
              "      background-color: #E2EBFA;\n",
              "      box-shadow: 0px 1px 2px rgba(60, 64, 67, 0.3), 0px 1px 3px 1px rgba(60, 64, 67, 0.15);\n",
              "      fill: #174EA6;\n",
              "    }\n",
              "\n",
              "    .colab-df-buttons div {\n",
              "      margin-bottom: 4px;\n",
              "    }\n",
              "\n",
              "    [theme=dark] .colab-df-convert {\n",
              "      background-color: #3B4455;\n",
              "      fill: #D2E3FC;\n",
              "    }\n",
              "\n",
              "    [theme=dark] .colab-df-convert:hover {\n",
              "      background-color: #434B5C;\n",
              "      box-shadow: 0px 1px 3px 1px rgba(0, 0, 0, 0.15);\n",
              "      filter: drop-shadow(0px 1px 2px rgba(0, 0, 0, 0.3));\n",
              "      fill: #FFFFFF;\n",
              "    }\n",
              "  </style>\n",
              "\n",
              "    <script>\n",
              "      const buttonEl =\n",
              "        document.querySelector('#df-e8e093e6-5714-43d0-8e54-27f2d9d39375 button.colab-df-convert');\n",
              "      buttonEl.style.display =\n",
              "        google.colab.kernel.accessAllowed ? 'block' : 'none';\n",
              "\n",
              "      async function convertToInteractive(key) {\n",
              "        const element = document.querySelector('#df-e8e093e6-5714-43d0-8e54-27f2d9d39375');\n",
              "        const dataTable =\n",
              "          await google.colab.kernel.invokeFunction('convertToInteractive',\n",
              "                                                    [key], {});\n",
              "        if (!dataTable) return;\n",
              "\n",
              "        const docLinkHtml = 'Like what you see? Visit the ' +\n",
              "          '<a target=\"_blank\" href=https://colab.research.google.com/notebooks/data_table.ipynb>data table notebook</a>'\n",
              "          + ' to learn more about interactive tables.';\n",
              "        element.innerHTML = '';\n",
              "        dataTable['output_type'] = 'display_data';\n",
              "        await google.colab.output.renderOutput(dataTable, element);\n",
              "        const docLink = document.createElement('div');\n",
              "        docLink.innerHTML = docLinkHtml;\n",
              "        element.appendChild(docLink);\n",
              "      }\n",
              "    </script>\n",
              "  </div>\n",
              "\n",
              "\n",
              "<div id=\"df-a5b055d4-33c0-4e70-a700-16b8dfb29f0b\">\n",
              "  <button class=\"colab-df-quickchart\" onclick=\"quickchart('df-a5b055d4-33c0-4e70-a700-16b8dfb29f0b')\"\n",
              "            title=\"Suggest charts.\"\n",
              "            style=\"display:none;\">\n",
              "\n",
              "<svg xmlns=\"http://www.w3.org/2000/svg\" height=\"24px\"viewBox=\"0 0 24 24\"\n",
              "     width=\"24px\">\n",
              "    <g>\n",
              "        <path d=\"M19 3H5c-1.1 0-2 .9-2 2v14c0 1.1.9 2 2 2h14c1.1 0 2-.9 2-2V5c0-1.1-.9-2-2-2zM9 17H7v-7h2v7zm4 0h-2V7h2v10zm4 0h-2v-4h2v4z\"/>\n",
              "    </g>\n",
              "</svg>\n",
              "  </button>\n",
              "\n",
              "<style>\n",
              "  .colab-df-quickchart {\n",
              "    background-color: #E8F0FE;\n",
              "    border: none;\n",
              "    border-radius: 50%;\n",
              "    cursor: pointer;\n",
              "    display: none;\n",
              "    fill: #1967D2;\n",
              "    height: 32px;\n",
              "    padding: 0 0 0 0;\n",
              "    width: 32px;\n",
              "  }\n",
              "\n",
              "  .colab-df-quickchart:hover {\n",
              "    background-color: #E2EBFA;\n",
              "    box-shadow: 0px 1px 2px rgba(60, 64, 67, 0.3), 0px 1px 3px 1px rgba(60, 64, 67, 0.15);\n",
              "    fill: #174EA6;\n",
              "  }\n",
              "\n",
              "  [theme=dark] .colab-df-quickchart {\n",
              "    background-color: #3B4455;\n",
              "    fill: #D2E3FC;\n",
              "  }\n",
              "\n",
              "  [theme=dark] .colab-df-quickchart:hover {\n",
              "    background-color: #434B5C;\n",
              "    box-shadow: 0px 1px 3px 1px rgba(0, 0, 0, 0.15);\n",
              "    filter: drop-shadow(0px 1px 2px rgba(0, 0, 0, 0.3));\n",
              "    fill: #FFFFFF;\n",
              "  }\n",
              "</style>\n",
              "\n",
              "  <script>\n",
              "    async function quickchart(key) {\n",
              "      const charts = await google.colab.kernel.invokeFunction(\n",
              "          'suggestCharts', [key], {});\n",
              "    }\n",
              "    (() => {\n",
              "      let quickchartButtonEl =\n",
              "        document.querySelector('#df-a5b055d4-33c0-4e70-a700-16b8dfb29f0b button');\n",
              "      quickchartButtonEl.style.display =\n",
              "        google.colab.kernel.accessAllowed ? 'block' : 'none';\n",
              "    })();\n",
              "  </script>\n",
              "</div>\n",
              "    </div>\n",
              "  </div>\n"
            ]
          },
          "metadata": {},
          "execution_count": 6
        }
      ],
      "source": [
        "QUERY = \"\"\"\n",
        "SELECT Age,COUNT(*) as count\n",
        "FROM master\n",
        "group by age\n",
        "order by age\n",
        "\"\"\"\n",
        "pd.read_sql_query(QUERY,conn)"
      ]
    },
    {
      "cell_type": "markdown",
      "metadata": {
        "id": "DavOOskDfA_j"
      },
      "source": [
        "## Demo: How to describe a table\n"
      ]
    },
    {
      "cell_type": "code",
      "execution_count": null,
      "metadata": {
        "colab": {
          "base_uri": "https://localhost:8080/"
        },
        "id": "uDV6TBdxfA_k",
        "outputId": "86f8a7c3-4286-4652-ded8-d8c5709acbb7"
      },
      "outputs": [
        {
          "output_type": "stream",
          "name": "stdout",
          "text": [
            "CREATE TABLE \"master\" (\n",
            "\"index\" INTEGER,\n",
            "  \"Respondent\" INTEGER,\n",
            "  \"MainBranch\" TEXT,\n",
            "  \"Hobbyist\" TEXT,\n",
            "  \"OpenSourcer\" TEXT,\n",
            "  \"OpenSource\" TEXT,\n",
            "  \"Employment\" TEXT,\n",
            "  \"Country\" TEXT,\n",
            "  \"Student\" TEXT,\n",
            "  \"EdLevel\" TEXT,\n",
            "  \"UndergradMajor\" TEXT,\n",
            "  \"OrgSize\" TEXT,\n",
            "  \"YearsCode\" TEXT,\n",
            "  \"Age1stCode\" TEXT,\n",
            "  \"YearsCodePro\" TEXT,\n",
            "  \"CareerSat\" TEXT,\n",
            "  \"JobSat\" TEXT,\n",
            "  \"MgrIdiot\" TEXT,\n",
            "  \"MgrMoney\" TEXT,\n",
            "  \"MgrWant\" TEXT,\n",
            "  \"JobSeek\" TEXT,\n",
            "  \"LastHireDate\" TEXT,\n",
            "  \"FizzBuzz\" TEXT,\n",
            "  \"ResumeUpdate\" TEXT,\n",
            "  \"CurrencySymbol\" TEXT,\n",
            "  \"CurrencyDesc\" TEXT,\n",
            "  \"CompTotal\" REAL,\n",
            "  \"CompFreq\" TEXT,\n",
            "  \"ConvertedComp\" REAL,\n",
            "  \"WorkWeekHrs\" REAL,\n",
            "  \"WorkRemote\" TEXT,\n",
            "  \"WorkLoc\" TEXT,\n",
            "  \"ImpSyn\" TEXT,\n",
            "  \"CodeRev\" TEXT,\n",
            "  \"CodeRevHrs\" REAL,\n",
            "  \"UnitTests\" TEXT,\n",
            "  \"PurchaseHow\" TEXT,\n",
            "  \"PurchaseWhat\" TEXT,\n",
            "  \"OpSys\" TEXT,\n",
            "  \"BlockchainOrg\" TEXT,\n",
            "  \"BlockchainIs\" TEXT,\n",
            "  \"BetterLife\" TEXT,\n",
            "  \"ITperson\" TEXT,\n",
            "  \"OffOn\" TEXT,\n",
            "  \"SocialMedia\" TEXT,\n",
            "  \"Extraversion\" TEXT,\n",
            "  \"ScreenName\" TEXT,\n",
            "  \"SOVisit1st\" TEXT,\n",
            "  \"SOVisitFreq\" TEXT,\n",
            "  \"SOFindAnswer\" TEXT,\n",
            "  \"SOTimeSaved\" TEXT,\n",
            "  \"SOHowMuchTime\" TEXT,\n",
            "  \"SOAccount\" TEXT,\n",
            "  \"SOPartFreq\" TEXT,\n",
            "  \"SOJobs\" TEXT,\n",
            "  \"EntTeams\" TEXT,\n",
            "  \"SOComm\" TEXT,\n",
            "  \"WelcomeChange\" TEXT,\n",
            "  \"Age\" REAL,\n",
            "  \"Trans\" TEXT,\n",
            "  \"Dependents\" TEXT,\n",
            "  \"SurveyLength\" TEXT,\n",
            "  \"SurveyEase\" TEXT\n",
            ")\n"
          ]
        }
      ],
      "source": [
        "table_name = 'master'  # the table you wish to describe\n",
        "\n",
        "QUERY = \"\"\"\n",
        "SELECT sql FROM sqlite_master\n",
        "WHERE name= '{}'\n",
        "\"\"\".format(table_name)\n",
        "\n",
        "df = pd.read_sql_query(QUERY,conn)\n",
        "print(df.iat[0,0])"
      ]
    },
    {
      "cell_type": "markdown",
      "metadata": {
        "id": "OP3eZmlufA_k"
      },
      "source": [
        "# Hands-on Lab\n"
      ]
    },
    {
      "cell_type": "markdown",
      "metadata": {
        "id": "cGW1Mj7hfA_l"
      },
      "source": [
        "## Visualizing distribution of data\n"
      ]
    },
    {
      "cell_type": "markdown",
      "metadata": {
        "id": "RQh_QcinfA_l"
      },
      "source": [
        "### Histograms\n"
      ]
    },
    {
      "cell_type": "markdown",
      "metadata": {
        "id": "p1EBcwucfA_m"
      },
      "source": [
        "Plot a histogram of `ConvertedComp.`\n"
      ]
    },
    {
      "cell_type": "code",
      "source": [
        "import matplotlib.pyplot as plt\n"
      ],
      "metadata": {
        "id": "63SsQLoApBtE"
      },
      "execution_count": 10,
      "outputs": []
    },
    {
      "cell_type": "code",
      "execution_count": null,
      "metadata": {
        "colab": {
          "base_uri": "https://localhost:8080/",
          "height": 472
        },
        "id": "TXOTeJT_fA_m",
        "outputId": "aa2ba0e6-3ee6-400f-d3d0-b779f4d9c726"
      },
      "outputs": [
        {
          "output_type": "display_data",
          "data": {
            "text/plain": [
              "<Figure size 640x480 with 1 Axes>"
            ],
            "image/png": "[encoded data removed]"
          },
          "metadata": {}
        }
      ],
      "source": [
        "# your code goes here\n",
        "query1 = \"SELECT ConvertedComp FROM master\"\n",
        "df1 = pd.read_sql_query(query1, conn)\n",
        "plt.hist(df1['ConvertedComp'], bins=10, edgecolor='black')\n",
        "\n",
        "plt.xlabel('ConvertedComp')\n",
        "plt.ylabel('Frequency')\n",
        "plt.title('Histogram of ConvertedComp from Database')\n",
        "\n",
        "plt.show()"
      ]
    },
    {
      "cell_type": "markdown",
      "metadata": {
        "id": "2TuaOKoVfA_n"
      },
      "source": [
        "### Box Plots\n"
      ]
    },
    {
      "cell_type": "markdown",
      "metadata": {
        "id": "lHDMAG9HfA_n"
      },
      "source": [
        "Plot a box plot of `Age.`\n"
      ]
    },
    {
      "cell_type": "code",
      "source": [
        "query2 = \"SELECT Age FROM master\"\n",
        "df2 = pd.read_sql_query(query2, conn)\n",
        "#df2.isna().sum()\n",
        "most_frequent_age = df2['Age'].value_counts().idxmax()\n",
        "df2['Age'].fillna(most_frequent_age, inplace=True)\n",
        "df2.isna().sum()"
      ],
      "metadata": {
        "colab": {
          "base_uri": "https://localhost:8080/"
        },
        "id": "1Ro9_L62sBWc",
        "outputId": "85c6b37e-d58c-4fec-e134-426ec854e620"
      },
      "execution_count": null,
      "outputs": [
        {
          "output_type": "execute_result",
          "data": {
            "text/plain": [
              "Age    0\n",
              "dtype: int64"
            ]
          },
          "metadata": {},
          "execution_count": 38
        }
      ]
    },
    {
      "cell_type": "code",
      "execution_count": null,
      "metadata": {
        "colab": {
          "base_uri": "https://localhost:8080/",
          "height": 452
        },
        "id": "II5h-WpofA_n",
        "outputId": "9ef473d3-788f-410f-b3e2-54851e923e6b"
      },
      "outputs": [
        {
          "output_type": "display_data",
          "data": {
            "text/plain": [
              "<Figure size 640x480 with 1 Axes>"
            ],
            "image/png": "[encoded data removed]"
          },
          "metadata": {}
        }
      ],
      "source": [
        "# your code goes here\n",
        "plt.boxplot(df2['Age'])\n",
        "plt.ylabel('Age')\n",
        "plt.title('Box Plot of Age from Database')\n",
        "plt.show()\n"
      ]
    },
    {
      "cell_type": "markdown",
      "metadata": {
        "id": "hraAp46AfA_o"
      },
      "source": [
        "## Visualizing relationships in data\n"
      ]
    },
    {
      "cell_type": "markdown",
      "metadata": {
        "id": "DFMOzdMOfA_o"
      },
      "source": [
        "### Scatter Plots\n"
      ]
    },
    {
      "cell_type": "markdown",
      "metadata": {
        "id": "JbbzgJLGfA_o"
      },
      "source": [
        "Create a scatter plot of `Age` and `WorkWeekHrs.`\n"
      ]
    },
    {
      "cell_type": "code",
      "execution_count": null,
      "metadata": {
        "colab": {
          "base_uri": "https://localhost:8080/",
          "height": 472
        },
        "id": "KfM-Vv-hfA_p",
        "outputId": "a60d4e27-64c0-492c-9611-a31a04db03b7"
      },
      "outputs": [
        {
          "output_type": "display_data",
          "data": {
            "text/plain": [
              "<Figure size 640x480 with 1 Axes>"
            ],
            "image/png": "[encoded data removed]"
          },
          "metadata": {}
        }
      ],
      "source": [
        "# your code goes here\n",
        "query3 = \"SELECT Age, WorkWeekHrs FROM master\"\n",
        "df3 = pd.read_sql_query(query3, conn)\n",
        "\n",
        "plt.scatter(df3['Age'], df3['WorkWeekHrs'], color='blue')\n",
        "\n",
        "plt.xlabel('Age')\n",
        "plt.ylabel('WorkWeekHrs')\n",
        "plt.title('Scatter Plot of Age and WorkWeekHrsfrom Database')\n",
        "plt.show()"
      ]
    },
    {
      "cell_type": "markdown",
      "metadata": {
        "id": "UPv6t5aDfA_p"
      },
      "source": [
        "### Bubble Plots\n"
      ]
    },
    {
      "cell_type": "markdown",
      "metadata": {
        "id": "RhNToaZnfA_p"
      },
      "source": [
        "Create a bubble plot of `WorkWeekHrs` and `CodeRevHrs`, use `Age` column as bubble size.\n"
      ]
    },
    {
      "cell_type": "code",
      "execution_count": null,
      "metadata": {
        "colab": {
          "base_uri": "https://localhost:8080/",
          "height": 472
        },
        "id": "145YUGoMfA_q",
        "outputId": "383aab5e-be77-418f-b627-2ac2470b404f"
      },
      "outputs": [
        {
          "output_type": "display_data",
          "data": {
            "text/plain": [
              "<Figure size 640x480 with 1 Axes>"
            ],
            "image/png": "[encoded data removed]"
          },
          "metadata": {}
        }
      ],
      "source": [
        "# your code goes here\n",
        "query4 = \"SELECT Age, WorkWeekHrs, CodeRevHrs FROM master\"\n",
        "df4 = pd.read_sql_query(query4, conn)\n",
        "\n",
        "plt.scatter(df4['CodeRevHrs'], df4['WorkWeekHrs'], s=df4['Age'], color='blue', alpha=0.5)\n",
        "\n",
        "plt.xlabel('CodeRevHrs')\n",
        "plt.ylabel('WorkWeekHrs')\n",
        "plt.title('Bubble Plot of CodeRevHrs and WorkWeekHrsfrom Database')\n",
        "plt.show()\n"
      ]
    },
    {
      "cell_type": "markdown",
      "metadata": {
        "id": "ZD9x7jnPfA_q"
      },
      "source": [
        "## Visualizing composition of data\n"
      ]
    },
    {
      "cell_type": "markdown",
      "metadata": {
        "id": "V4H91ujlfA_1"
      },
      "source": [
        "### Pie Charts\n"
      ]
    },
    {
      "cell_type": "markdown",
      "metadata": {
        "id": "gzIBSmL5fA_2"
      },
      "source": [
        "Create a pie chart of the top 5 databases that respondents wish to learn next year. Label the pie chart with database names. Display percentages of each database on the pie chart.\n"
      ]
    },
    {
      "cell_type": "code",
      "execution_count": 20,
      "metadata": {
        "id": "IZawBh4QfA_2",
        "colab": {
          "base_uri": "https://localhost:8080/",
          "height": 428
        },
        "outputId": "567b0f32-82d0-4034-8af6-76d928d7fc9c"
      },
      "outputs": [
        {
          "output_type": "display_data",
          "data": {
            "text/plain": [
              "<Figure size 640x480 with 1 Axes>"
            ],
            "image/png": "[encoded data removed]"
          },
          "metadata": {}
        }
      ],
      "source": [
        "# your code goes here\n",
        "query6 = \"SELECT * FROM DatabaseDesireNextYear group by DatabaseDesireNextYear order by Respondent DESC\"\n",
        "df6 = pd.read_sql_query(query6, conn)\n",
        "df7 = df6.head(5)\n",
        "df7\n",
        "plt.pie(df7['Respondent'], labels = df7['DatabaseDesireNextYear'], autopct='%1.1f%%')\n",
        "plt.title('Pie Chart for top 5 databases that respondents wish to learn next year')\n",
        "plt.show()"
      ]
    },
    {
      "cell_type": "code",
      "source": [
        "df6"
      ],
      "metadata": {
        "colab": {
          "base_uri": "https://localhost:8080/",
          "height": 488
        },
        "id": "TlaOL0oCHeze",
        "outputId": "81fc1621-760d-4b96-b383-ff6ee1f0a3e8"
      },
      "execution_count": 55,
      "outputs": [
        {
          "output_type": "execute_result",
          "data": {
            "text/plain": [
              "    Respondent DatabaseDesireNextYear\n",
              "0           49              Cassandra\n",
              "1           44              Other(s):\n",
              "2           23              Couchbase\n",
              "3           22                 Oracle\n",
              "4           20                MariaDB\n",
              "5           19               DynamoDB\n",
              "6           16                MongoDB\n",
              "7           16   Microsoft SQL Server\n",
              "8           16          Elasticsearch\n",
              "9           13               Firebase\n",
              "10           9                  Redis\n",
              "11           9             PostgreSQL\n",
              "12           4                 SQLite\n",
              "13           4                  MySQL"
            ],
            "text/html": [
              "\n",
              "  <div id=\"df-71278d37-c844-46ab-895b-6d41ef6b4412\" class=\"colab-df-container\">\n",
              "    <div>\n",
              "<style scoped>\n",
              "    .dataframe tbody tr th:only-of-type {\n",
              "        vertical-align: middle;\n",
              "    }\n",
              "\n",
              "    .dataframe tbody tr th {\n",
              "        vertical-align: top;\n",
              "    }\n",
              "\n",
              "    .dataframe thead th {\n",
              "        text-align: right;\n",
              "    }\n",
              "</style>\n",
              "<table border=\"1\" class=\"dataframe\">\n",
              "  <thead>\n",
              "    <tr style=\"text-align: right;\">\n",
              "      <th></th>\n",
              "      <th>Respondent</th>\n",
              "      <th>DatabaseDesireNextYear</th>\n",
              "    </tr>\n",
              "  </thead>\n",
              "  <tbody>\n",
              "    <tr>\n",
              "      <th>0</th>\n",
              "      <td>49</td>\n",
              "      <td>Cassandra</td>\n",
              "    </tr>\n",
              "    <tr>\n",
              "      <th>1</th>\n",
              "      <td>44</td>\n",
              "      <td>Other(s):</td>\n",
              "    </tr>\n",
              "    <tr>\n",
              "      <th>2</th>\n",
              "      <td>23</td>\n",
              "      <td>Couchbase</td>\n",
              "    </tr>\n",
              "    <tr>\n",
              "      <th>3</th>\n",
              "      <td>22</td>\n",
              "      <td>Oracle</td>\n",
              "    </tr>\n",
              "    <tr>\n",
              "      <th>4</th>\n",
              "      <td>20</td>\n",
              "      <td>MariaDB</td>\n",
              "    </tr>\n",
              "    <tr>\n",
              "      <th>5</th>\n",
              "      <td>19</td>\n",
              "      <td>DynamoDB</td>\n",
              "    </tr>\n",
              "    <tr>\n",
              "      <th>6</th>\n",
              "      <td>16</td>\n",
              "      <td>MongoDB</td>\n",
              "    </tr>\n",
              "    <tr>\n",
              "      <th>7</th>\n",
              "      <td>16</td>\n",
              "      <td>Microsoft SQL Server</td>\n",
              "    </tr>\n",
              "    <tr>\n",
              "      <th>8</th>\n",
              "      <td>16</td>\n",
              "      <td>Elasticsearch</td>\n",
              "    </tr>\n",
              "    <tr>\n",
              "      <th>9</th>\n",
              "      <td>13</td>\n",
              "      <td>Firebase</td>\n",
              "    </tr>\n",
              "    <tr>\n",
              "      <th>10</th>\n",
              "      <td>9</td>\n",
              "      <td>Redis</td>\n",
              "    </tr>\n",
              "    <tr>\n",
              "      <th>11</th>\n",
              "      <td>9</td>\n",
              "      <td>PostgreSQL</td>\n",
              "    </tr>\n",
              "    <tr>\n",
              "      <th>12</th>\n",
              "      <td>4</td>\n",
              "      <td>SQLite</td>\n",
              "    </tr>\n",
              "    <tr>\n",
              "      <th>13</th>\n",
              "      <td>4</td>\n",
              "      <td>MySQL</td>\n",
              "    </tr>\n",
              "  </tbody>\n",
              "</table>\n",
              "</div>\n",
              "    <div class=\"colab-df-buttons\">\n",
              "\n",
              "  <div class=\"colab-df-container\">\n",
              "    <button class=\"colab-df-convert\" onclick=\"convertToInteractive('df-71278d37-c844-46ab-895b-6d41ef6b4412')\"\n",
              "            title=\"Convert this dataframe to an interactive table.\"\n",
              "            style=\"display:none;\">\n",
              "\n",
              "  <svg xmlns=\"http://www.w3.org/2000/svg\" height=\"24px\" viewBox=\"0 -960 960 960\">\n",
              "    <path d=\"M120-120v-720h720v720H120Zm60-500h600v-160H180v160Zm220 220h160v-160H400v160Zm0 220h160v-160H400v160ZM180-400h160v-160H180v160Zm440 0h160v-160H620v160ZM180-180h160v-160H180v160Zm440 0h160v-160H620v160Z\"/>\n",
              "  </svg>\n",
              "    </button>\n",
              "\n",
              "  <style>\n",
              "    .colab-df-container {\n",
              "      display:flex;\n",
              "      gap: 12px;\n",
              "    }\n",
              "\n",
              "    .colab-df-convert {\n",
              "      background-color: #E8F0FE;\n",
              "      border: none;\n",
              "      border-radius: 50%;\n",
              "      cursor: pointer;\n",
              "      display: none;\n",
              "      fill: #1967D2;\n",
              "      height: 32px;\n",
              "      padding: 0 0 0 0;\n",
              "      width: 32px;\n",
              "    }\n",
              "\n",
              "    .colab-df-convert:hover {\n",
              "      background-color: #E2EBFA;\n",
              "      box-shadow: 0px 1px 2px rgba(60, 64, 67, 0.3), 0px 1px 3px 1px rgba(60, 64, 67, 0.15);\n",
              "      fill: #174EA6;\n",
              "    }\n",
              "\n",
              "    .colab-df-buttons div {\n",
              "      margin-bottom: 4px;\n",
              "    }\n",
              "\n",
              "    [theme=dark] .colab-df-convert {\n",
              "      background-color: #3B4455;\n",
              "      fill: #D2E3FC;\n",
              "    }\n",
              "\n",
              "    [theme=dark] .colab-df-convert:hover {\n",
              "      background-color: #434B5C;\n",
              "      box-shadow: 0px 1px 3px 1px rgba(0, 0, 0, 0.15);\n",
              "      filter: drop-shadow(0px 1px 2px rgba(0, 0, 0, 0.3));\n",
              "      fill: #FFFFFF;\n",
              "    }\n",
              "  </style>\n",
              "\n",
              "    <script>\n",
              "      const buttonEl =\n",
              "        document.querySelector('#df-71278d37-c844-46ab-895b-6d41ef6b4412 button.colab-df-convert');\n",
              "      buttonEl.style.display =\n",
              "        google.colab.kernel.accessAllowed ? 'block' : 'none';\n",
              "\n",
              "      async function convertToInteractive(key) {\n",
              "        const element = document.querySelector('#df-71278d37-c844-46ab-895b-6d41ef6b4412');\n",
              "        const dataTable =\n",
              "          await google.colab.kernel.invokeFunction('convertToInteractive',\n",
              "                                                    [key], {});\n",
              "        if (!dataTable) return;\n",
              "\n",
              "        const docLinkHtml = 'Like what you see? Visit the ' +\n",
              "          '<a target=\"_blank\" href=https://colab.research.google.com/notebooks/data_table.ipynb>data table notebook</a>'\n",
              "          + ' to learn more about interactive tables.';\n",
              "        element.innerHTML = '';\n",
              "        dataTable['output_type'] = 'display_data';\n",
              "        await google.colab.output.renderOutput(dataTable, element);\n",
              "        const docLink = document.createElement('div');\n",
              "        docLink.innerHTML = docLinkHtml;\n",
              "        element.appendChild(docLink);\n",
              "      }\n",
              "    </script>\n",
              "  </div>\n",
              "\n",
              "\n",
              "<div id=\"df-b2577f6d-dbf6-43d2-9d75-26f4772876c0\">\n",
              "  <button class=\"colab-df-quickchart\" onclick=\"quickchart('df-b2577f6d-dbf6-43d2-9d75-26f4772876c0')\"\n",
              "            title=\"Suggest charts.\"\n",
              "            style=\"display:none;\">\n",
              "\n",
              "<svg xmlns=\"http://www.w3.org/2000/svg\" height=\"24px\"viewBox=\"0 0 24 24\"\n",
              "     width=\"24px\">\n",
              "    <g>\n",
              "        <path d=\"M19 3H5c-1.1 0-2 .9-2 2v14c0 1.1.9 2 2 2h14c1.1 0 2-.9 2-2V5c0-1.1-.9-2-2-2zM9 17H7v-7h2v7zm4 0h-2V7h2v10zm4 0h-2v-4h2v4z\"/>\n",
              "    </g>\n",
              "</svg>\n",
              "  </button>\n",
              "\n",
              "<style>\n",
              "  .colab-df-quickchart {\n",
              "    background-color: #E8F0FE;\n",
              "    border: none;\n",
              "    border-radius: 50%;\n",
              "    cursor: pointer;\n",
              "    display: none;\n",
              "    fill: #1967D2;\n",
              "    height: 32px;\n",
              "    padding: 0 0 0 0;\n",
              "    width: 32px;\n",
              "  }\n",
              "\n",
              "  .colab-df-quickchart:hover {\n",
              "    background-color: #E2EBFA;\n",
              "    box-shadow: 0px 1px 2px rgba(60, 64, 67, 0.3), 0px 1px 3px 1px rgba(60, 64, 67, 0.15);\n",
              "    fill: #174EA6;\n",
              "  }\n",
              "\n",
              "  [theme=dark] .colab-df-quickchart {\n",
              "    background-color: #3B4455;\n",
              "    fill: #D2E3FC;\n",
              "  }\n",
              "\n",
              "  [theme=dark] .colab-df-quickchart:hover {\n",
              "    background-color: #434B5C;\n",
              "    box-shadow: 0px 1px 3px 1px rgba(0, 0, 0, 0.15);\n",
              "    filter: drop-shadow(0px 1px 2px rgba(0, 0, 0, 0.3));\n",
              "    fill: #FFFFFF;\n",
              "  }\n",
              "</style>\n",
              "\n",
              "  <script>\n",
              "    async function quickchart(key) {\n",
              "      const charts = await google.colab.kernel.invokeFunction(\n",
              "          'suggestCharts', [key], {});\n",
              "    }\n",
              "    (() => {\n",
              "      let quickchartButtonEl =\n",
              "        document.querySelector('#df-b2577f6d-dbf6-43d2-9d75-26f4772876c0 button');\n",
              "      quickchartButtonEl.style.display =\n",
              "        google.colab.kernel.accessAllowed ? 'block' : 'none';\n",
              "    })();\n",
              "  </script>\n",
              "</div>\n",
              "    </div>\n",
              "  </div>\n"
            ]
          },
          "metadata": {},
          "execution_count": 55
        }
      ]
    },
    {
      "cell_type": "code",
      "source": [
        "query10 = \"SELECT * FROM LanguageDesireNextYear group by LanguageDesireNextYear order by Respondent DESC\"\n",
        "df10 = pd.read_sql_query(query10, conn)\n",
        "df10"
      ],
      "metadata": {
        "colab": {
          "base_uri": "https://localhost:8080/",
          "height": 927
        },
        "id": "pOGvpK4UIDAj",
        "outputId": "e54aa061-8feb-4003-e7da-4ab31a5ddee7"
      },
      "execution_count": 59,
      "outputs": [
        {
          "output_type": "execute_result",
          "data": {
            "text/plain": [
              "    Respondent LanguageDesireNextYear\n",
              "0          140                   Dart\n",
              "1          130                 Erlang\n",
              "2          111                    VBA\n",
              "3           94               Assembly\n",
              "4           57                 Elixir\n",
              "5           56                  Scala\n",
              "6           39                     F#\n",
              "7           29                Clojure\n",
              "8           23                  Swift\n",
              "9           23            Objective-C\n",
              "10          23                 Kotlin\n",
              "11          23                     Go\n",
              "12          22                    C++\n",
              "13          20                      R\n",
              "14          20                 Python\n",
              "15          20                    PHP\n",
              "16          17                   Java\n",
              "17           9            WebAssembly\n",
              "18           9             TypeScript\n",
              "19           9                   Rust\n",
              "20           9                   Ruby\n",
              "21           9              Other(s):\n",
              "22           9               HTML/CSS\n",
              "23           9  Bash/Shell/PowerShell\n",
              "24           4                    SQL\n",
              "25           4             JavaScript\n",
              "26           4                     C#\n",
              "27           4                      C"
            ],
            "text/html": [
              "\n",
              "  <div id=\"df-ca78b0f6-7393-4ce8-8d24-6d2f04b1cdde\" class=\"colab-df-container\">\n",
              "    <div>\n",
              "<style scoped>\n",
              "    .dataframe tbody tr th:only-of-type {\n",
              "        vertical-align: middle;\n",
              "    }\n",
              "\n",
              "    .dataframe tbody tr th {\n",
              "        vertical-align: top;\n",
              "    }\n",
              "\n",
              "    .dataframe thead th {\n",
              "        text-align: right;\n",
              "    }\n",
              "</style>\n",
              "<table border=\"1\" class=\"dataframe\">\n",
              "  <thead>\n",
              "    <tr style=\"text-align: right;\">\n",
              "      <th></th>\n",
              "      <th>Respondent</th>\n",
              "      <th>LanguageDesireNextYear</th>\n",
              "    </tr>\n",
              "  </thead>\n",
              "  <tbody>\n",
              "    <tr>\n",
              "      <th>0</th>\n",
              "      <td>140</td>\n",
              "      <td>Dart</td>\n",
              "    </tr>\n",
              "    <tr>\n",
              "      <th>1</th>\n",
              "      <td>130</td>\n",
              "      <td>Erlang</td>\n",
              "    </tr>\n",
              "    <tr>\n",
              "      <th>2</th>\n",
              "      <td>111</td>\n",
              "      <td>VBA</td>\n",
              "    </tr>\n",
              "    <tr>\n",
              "      <th>3</th>\n",
              "      <td>94</td>\n",
              "      <td>Assembly</td>\n",
              "    </tr>\n",
              "    <tr>\n",
              "      <th>4</th>\n",
              "      <td>57</td>\n",
              "      <td>Elixir</td>\n",
              "    </tr>\n",
              "    <tr>\n",
              "      <th>5</th>\n",
              "      <td>56</td>\n",
              "      <td>Scala</td>\n",
              "    </tr>\n",
              "    <tr>\n",
              "      <th>6</th>\n",
              "      <td>39</td>\n",
              "      <td>F#</td>\n",
              "    </tr>\n",
              "    <tr>\n",
              "      <th>7</th>\n",
              "      <td>29</td>\n",
              "      <td>Clojure</td>\n",
              "    </tr>\n",
              "    <tr>\n",
              "      <th>8</th>\n",
              "      <td>23</td>\n",
              "      <td>Swift</td>\n",
              "    </tr>\n",
              "    <tr>\n",
              "      <th>9</th>\n",
              "      <td>23</td>\n",
              "      <td>Objective-C</td>\n",
              "    </tr>\n",
              "    <tr>\n",
              "      <th>10</th>\n",
              "      <td>23</td>\n",
              "      <td>Kotlin</td>\n",
              "    </tr>\n",
              "    <tr>\n",
              "      <th>11</th>\n",
              "      <td>23</td>\n",
              "      <td>Go</td>\n",
              "    </tr>\n",
              "    <tr>\n",
              "      <th>12</th>\n",
              "      <td>22</td>\n",
              "      <td>C++</td>\n",
              "    </tr>\n",
              "    <tr>\n",
              "      <th>13</th>\n",
              "      <td>20</td>\n",
              "      <td>R</td>\n",
              "    </tr>\n",
              "    <tr>\n",
              "      <th>14</th>\n",
              "      <td>20</td>\n",
              "      <td>Python</td>\n",
              "    </tr>\n",
              "    <tr>\n",
              "      <th>15</th>\n",
              "      <td>20</td>\n",
              "      <td>PHP</td>\n",
              "    </tr>\n",
              "    <tr>\n",
              "      <th>16</th>\n",
              "      <td>17</td>\n",
              "      <td>Java</td>\n",
              "    </tr>\n",
              "    <tr>\n",
              "      <th>17</th>\n",
              "      <td>9</td>\n",
              "      <td>WebAssembly</td>\n",
              "    </tr>\n",
              "    <tr>\n",
              "      <th>18</th>\n",
              "      <td>9</td>\n",
              "      <td>TypeScript</td>\n",
              "    </tr>\n",
              "    <tr>\n",
              "      <th>19</th>\n",
              "      <td>9</td>\n",
              "      <td>Rust</td>\n",
              "    </tr>\n",
              "    <tr>\n",
              "      <th>20</th>\n",
              "      <td>9</td>\n",
              "      <td>Ruby</td>\n",
              "    </tr>\n",
              "    <tr>\n",
              "      <th>21</th>\n",
              "      <td>9</td>\n",
              "      <td>Other(s):</td>\n",
              "    </tr>\n",
              "    <tr>\n",
              "      <th>22</th>\n",
              "      <td>9</td>\n",
              "      <td>HTML/CSS</td>\n",
              "    </tr>\n",
              "    <tr>\n",
              "      <th>23</th>\n",
              "      <td>9</td>\n",
              "      <td>Bash/Shell/PowerShell</td>\n",
              "    </tr>\n",
              "    <tr>\n",
              "      <th>24</th>\n",
              "      <td>4</td>\n",
              "      <td>SQL</td>\n",
              "    </tr>\n",
              "    <tr>\n",
              "      <th>25</th>\n",
              "      <td>4</td>\n",
              "      <td>JavaScript</td>\n",
              "    </tr>\n",
              "    <tr>\n",
              "      <th>26</th>\n",
              "      <td>4</td>\n",
              "      <td>C#</td>\n",
              "    </tr>\n",
              "    <tr>\n",
              "      <th>27</th>\n",
              "      <td>4</td>\n",
              "      <td>C</td>\n",
              "    </tr>\n",
              "  </tbody>\n",
              "</table>\n",
              "</div>\n",
              "    <div class=\"colab-df-buttons\">\n",
              "\n",
              "  <div class=\"colab-df-container\">\n",
              "    <button class=\"colab-df-convert\" onclick=\"convertToInteractive('df-ca78b0f6-7393-4ce8-8d24-6d2f04b1cdde')\"\n",
              "            title=\"Convert this dataframe to an interactive table.\"\n",
              "            style=\"display:none;\">\n",
              "\n",
              "  <svg xmlns=\"http://www.w3.org/2000/svg\" height=\"24px\" viewBox=\"0 -960 960 960\">\n",
              "    <path d=\"M120-120v-720h720v720H120Zm60-500h600v-160H180v160Zm220 220h160v-160H400v160Zm0 220h160v-160H400v160ZM180-400h160v-160H180v160Zm440 0h160v-160H620v160ZM180-180h160v-160H180v160Zm440 0h160v-160H620v160Z\"/>\n",
              "  </svg>\n",
              "    </button>\n",
              "\n",
              "  <style>\n",
              "    .colab-df-container {\n",
              "      display:flex;\n",
              "      gap: 12px;\n",
              "    }\n",
              "\n",
              "    .colab-df-convert {\n",
              "      background-color: #E8F0FE;\n",
              "      border: none;\n",
              "      border-radius: 50%;\n",
              "      cursor: pointer;\n",
              "      display: none;\n",
              "      fill: #1967D2;\n",
              "      height: 32px;\n",
              "      padding: 0 0 0 0;\n",
              "      width: 32px;\n",
              "    }\n",
              "\n",
              "    .colab-df-convert:hover {\n",
              "      background-color: #E2EBFA;\n",
              "      box-shadow: 0px 1px 2px rgba(60, 64, 67, 0.3), 0px 1px 3px 1px rgba(60, 64, 67, 0.15);\n",
              "      fill: #174EA6;\n",
              "    }\n",
              "\n",
              "    .colab-df-buttons div {\n",
              "      margin-bottom: 4px;\n",
              "    }\n",
              "\n",
              "    [theme=dark] .colab-df-convert {\n",
              "      background-color: #3B4455;\n",
              "      fill: #D2E3FC;\n",
              "    }\n",
              "\n",
              "    [theme=dark] .colab-df-convert:hover {\n",
              "      background-color: #434B5C;\n",
              "      box-shadow: 0px 1px 3px 1px rgba(0, 0, 0, 0.15);\n",
              "      filter: drop-shadow(0px 1px 2px rgba(0, 0, 0, 0.3));\n",
              "      fill: #FFFFFF;\n",
              "    }\n",
              "  </style>\n",
              "\n",
              "    <script>\n",
              "      const buttonEl =\n",
              "        document.querySelector('#df-ca78b0f6-7393-4ce8-8d24-6d2f04b1cdde button.colab-df-convert');\n",
              "      buttonEl.style.display =\n",
              "        google.colab.kernel.accessAllowed ? 'block' : 'none';\n",
              "\n",
              "      async function convertToInteractive(key) {\n",
              "        const element = document.querySelector('#df-ca78b0f6-7393-4ce8-8d24-6d2f04b1cdde');\n",
              "        const dataTable =\n",
              "          await google.colab.kernel.invokeFunction('convertToInteractive',\n",
              "                                                    [key], {});\n",
              "        if (!dataTable) return;\n",
              "\n",
              "        const docLinkHtml = 'Like what you see? Visit the ' +\n",
              "          '<a target=\"_blank\" href=https://colab.research.google.com/notebooks/data_table.ipynb>data table notebook</a>'\n",
              "          + ' to learn more about interactive tables.';\n",
              "        element.innerHTML = '';\n",
              "        dataTable['output_type'] = 'display_data';\n",
              "        await google.colab.output.renderOutput(dataTable, element);\n",
              "        const docLink = document.createElement('div');\n",
              "        docLink.innerHTML = docLinkHtml;\n",
              "        element.appendChild(docLink);\n",
              "      }\n",
              "    </script>\n",
              "  </div>\n",
              "\n",
              "\n",
              "<div id=\"df-db0a2dd1-7969-4b1a-98a5-f62284057cdf\">\n",
              "  <button class=\"colab-df-quickchart\" onclick=\"quickchart('df-db0a2dd1-7969-4b1a-98a5-f62284057cdf')\"\n",
              "            title=\"Suggest charts.\"\n",
              "            style=\"display:none;\">\n",
              "\n",
              "<svg xmlns=\"http://www.w3.org/2000/svg\" height=\"24px\"viewBox=\"0 0 24 24\"\n",
              "     width=\"24px\">\n",
              "    <g>\n",
              "        <path d=\"M19 3H5c-1.1 0-2 .9-2 2v14c0 1.1.9 2 2 2h14c1.1 0 2-.9 2-2V5c0-1.1-.9-2-2-2zM9 17H7v-7h2v7zm4 0h-2V7h2v10zm4 0h-2v-4h2v4z\"/>\n",
              "    </g>\n",
              "</svg>\n",
              "  </button>\n",
              "\n",
              "<style>\n",
              "  .colab-df-quickchart {\n",
              "    background-color: #E8F0FE;\n",
              "    border: none;\n",
              "    border-radius: 50%;\n",
              "    cursor: pointer;\n",
              "    display: none;\n",
              "    fill: #1967D2;\n",
              "    height: 32px;\n",
              "    padding: 0 0 0 0;\n",
              "    width: 32px;\n",
              "  }\n",
              "\n",
              "  .colab-df-quickchart:hover {\n",
              "    background-color: #E2EBFA;\n",
              "    box-shadow: 0px 1px 2px rgba(60, 64, 67, 0.3), 0px 1px 3px 1px rgba(60, 64, 67, 0.15);\n",
              "    fill: #174EA6;\n",
              "  }\n",
              "\n",
              "  [theme=dark] .colab-df-quickchart {\n",
              "    background-color: #3B4455;\n",
              "    fill: #D2E3FC;\n",
              "  }\n",
              "\n",
              "  [theme=dark] .colab-df-quickchart:hover {\n",
              "    background-color: #434B5C;\n",
              "    box-shadow: 0px 1px 3px 1px rgba(0, 0, 0, 0.15);\n",
              "    filter: drop-shadow(0px 1px 2px rgba(0, 0, 0, 0.3));\n",
              "    fill: #FFFFFF;\n",
              "  }\n",
              "</style>\n",
              "\n",
              "  <script>\n",
              "    async function quickchart(key) {\n",
              "      const charts = await google.colab.kernel.invokeFunction(\n",
              "          'suggestCharts', [key], {});\n",
              "    }\n",
              "    (() => {\n",
              "      let quickchartButtonEl =\n",
              "        document.querySelector('#df-db0a2dd1-7969-4b1a-98a5-f62284057cdf button');\n",
              "      quickchartButtonEl.style.display =\n",
              "        google.colab.kernel.accessAllowed ? 'block' : 'none';\n",
              "    })();\n",
              "  </script>\n",
              "</div>\n",
              "    </div>\n",
              "  </div>\n"
            ]
          },
          "metadata": {},
          "execution_count": 59
        }
      ]
    },
    {
      "cell_type": "code",
      "source": [
        "query11 = \"SELECT * FROM DatabaseWorkedWith\"\n",
        "df11 = pd.read_sql_query(query11, conn)\n",
        "df11['DatabaseWorkedWith'].value_counts()"
      ],
      "metadata": {
        "colab": {
          "base_uri": "https://localhost:8080/"
        },
        "id": "-g3OP6z4Iqvi",
        "outputId": "b898bdba-3c71-40ae-ed2b-c82a21728856"
      },
      "execution_count": 68,
      "outputs": [
        {
          "output_type": "execute_result",
          "data": {
            "text/plain": [
              "MySQL                   5469\n",
              "Microsoft SQL Server    4110\n",
              "PostgreSQL              4097\n",
              "SQLite                  3248\n",
              "MongoDB                 3016\n",
              "Redis                   2508\n",
              "Elasticsearch           1954\n",
              "Oracle                  1744\n",
              "MariaDB                 1709\n",
              "Firebase                1314\n",
              "DynamoDB                 831\n",
              "Other(s):                728\n",
              "Cassandra                397\n",
              "Couchbase                250\n",
              "Name: DatabaseWorkedWith, dtype: int64"
            ]
          },
          "metadata": {},
          "execution_count": 68
        }
      ]
    },
    {
      "cell_type": "markdown",
      "metadata": {
        "id": "qXe41mJifA_3"
      },
      "source": [
        "### Stacked Charts\n"
      ]
    },
    {
      "cell_type": "markdown",
      "metadata": {
        "id": "ETf61c7nfA_3"
      },
      "source": [
        "Create a stacked chart of median `WorkWeekHrs` and `CodeRevHrs` for the age group 30 to 35.\n"
      ]
    },
    {
      "cell_type": "code",
      "execution_count": 34,
      "metadata": {
        "id": "Zr8jCzsBfA_3",
        "colab": {
          "base_uri": "https://localhost:8080/",
          "height": 488
        },
        "outputId": "46c0d9c8-13e8-4190-fa2d-2e3beb8b8455"
      },
      "outputs": [
        {
          "output_type": "display_data",
          "data": {
            "text/plain": [
              "<Figure size 640x480 with 1 Axes>"
            ],
            "image/png": "[encoded data removed]"
          },
          "metadata": {}
        }
      ],
      "source": [
        "# your code goes here\n",
        "query5 = \"SELECT WorkWeekHrs, CodeRevHrs, Age FROM master WHERE Age BETWEEN 30 AND 35\"\n",
        "df5 = pd.read_sql_query(query5, conn)\n",
        "#df5['WorkWeekHrs'].median()\n",
        "#df5['CodeRevHrs'].median()\n",
        "median_values = df5.groupby('Age').median()\n",
        "median_values.plot(kind='bar', stacked=True)\n",
        "\n",
        "plt.xlabel('Age')\n",
        "plt.ylabel('Median of WorkWeekHrs and CodeRevHrs')\n",
        "plt.title('Stacked Chart of Median Values for WorkWeekHrs and CodeRevHrs')\n",
        "\n",
        "plt.show()"
      ]
    },
    {
      "cell_type": "markdown",
      "metadata": {
        "id": "tQOAzOkGfA_4"
      },
      "source": [
        "## Visualizing comparison of data\n"
      ]
    },
    {
      "cell_type": "markdown",
      "metadata": {
        "id": "uRqwo6KRfA_5"
      },
      "source": [
        "### Line Chart\n"
      ]
    },
    {
      "cell_type": "markdown",
      "metadata": {
        "id": "7JarXwCHfA_5"
      },
      "source": [
        "Plot the median `ConvertedComp` for all ages from 45 to 60.\n"
      ]
    },
    {
      "cell_type": "code",
      "execution_count": 37,
      "metadata": {
        "id": "BEMe_XogfA_6",
        "colab": {
          "base_uri": "https://localhost:8080/",
          "height": 472
        },
        "outputId": "851bc832-1ca0-4ca8-ceb3-757815753ac4"
      },
      "outputs": [
        {
          "output_type": "display_data",
          "data": {
            "text/plain": [
              "<Figure size 640x480 with 1 Axes>"
            ],
            "image/png": "[encoded data removed]"
          },
          "metadata": {}
        }
      ],
      "source": [
        "# your code goes here\n",
        "query8 = \"SELECT ConvertedComp, Age FROM master WHERE Age BETWEEN 45 AND 60\"\n",
        "df8 = pd.read_sql_query(query8, conn)\n",
        "\n",
        "median_values2 = df8.groupby('Age')['ConvertedComp'].median()\n",
        "median_values2.plot(kind='line', marker='o')\n",
        "\n",
        "plt.xlabel('Age')\n",
        "plt.ylabel('Median of ConvertedComp')\n",
        "plt.title('Line Chart of Median Values of ConvertedComp for Age')\n",
        "\n",
        "plt.show()"
      ]
    },
    {
      "cell_type": "markdown",
      "metadata": {
        "id": "xQwWlpfWfA_6"
      },
      "source": [
        "### Bar Chart\n"
      ]
    },
    {
      "cell_type": "markdown",
      "metadata": {
        "id": "xsV3xlyJfA_7"
      },
      "source": [
        "Create a horizontal bar chart using column `MainBranch.`\n"
      ]
    },
    {
      "cell_type": "code",
      "execution_count": 53,
      "metadata": {
        "id": "rA1Y8lZYfA_7",
        "colab": {
          "base_uri": "https://localhost:8080/",
          "height": 472
        },
        "outputId": "7cecebf3-96fe-4b76-db0f-290bf9228b1a"
      },
      "outputs": [
        {
          "output_type": "display_data",
          "data": {
            "text/plain": [
              "<Figure size 640x480 with 1 Axes>"
            ],
            "image/png": "[encoded data removed]"
          },
          "metadata": {}
        }
      ],
      "source": [
        "# your code goes here\n",
        "query9 = \"SELECT * FROM master\"\n",
        "df9 = pd.read_sql_query(query9, conn)\n",
        "value_counts_df = df9['MainBranch'].value_counts().reset_index()\n",
        "value_counts_df.columns = ['MainBranch', 'Count']\n",
        "plt.barh(value_counts_df['MainBranch'], value_counts_df['Count'])\n",
        "\n",
        "plt.xlabel('Count')\n",
        "plt.ylabel('MainBranch')\n",
        "plt.title('Horizontal Bar Chart fro MainBranch')\n",
        "\n",
        "plt.show()"
      ]
    },
    {
      "cell_type": "markdown",
      "metadata": {
        "id": "mP8IhiGffA_7"
      },
      "source": [
        "Close the database connection.\n"
      ]
    },
    {
      "cell_type": "code",
      "source": [
        "query12 = \"SELECT * FROM DevType\"\n",
        "df12 = pd.read_sql_query(query12, conn)\n",
        "df12['DevType'].value_counts()"
      ],
      "metadata": {
        "colab": {
          "base_uri": "https://localhost:8080/"
        },
        "id": "3_VTv6bCLh3m",
        "outputId": "bc887e77-2f62-450e-838c-4a2232803f7f"
      },
      "execution_count": 70,
      "outputs": [
        {
          "output_type": "execute_result",
          "data": {
            "text/plain": [
              "Developer, full-stack                            6928\n",
              "Developer, back-end                              6290\n",
              "Developer, front-end                             3920\n",
              "Developer, desktop or enterprise applications    2575\n",
              "Developer, mobile                                1959\n",
              "DevOps specialist                                1639\n",
              "Database administrator                           1413\n",
              "System administrator                             1202\n",
              "Designer                                          988\n",
              "Developer, QA or test                             911\n",
              "Developer, embedded applications or devices       854\n",
              "Engineer, data                                    832\n",
              "Data scientist or machine learning specialist     803\n",
              "Data or business analyst                          802\n",
              "Student                                           766\n",
              "Academic researcher                               556\n",
              "Educator                                          514\n",
              "Product manager                                   480\n",
              "Developer, game or graphics                       472\n",
              "Engineer, site reliability                        449\n",
              "Engineering manager                               386\n",
              "Scientist                                         354\n",
              "Senior executive/VP                               160\n",
              "Marketing or sales professional                    61\n",
              "Name: DevType, dtype: int64"
            ]
          },
          "metadata": {},
          "execution_count": 70
        }
      ]
    },
    {
      "cell_type": "code",
      "execution_count": 71,
      "metadata": {
        "id": "cnWxrbsRfA_8"
      },
      "outputs": [],
      "source": [
        "conn.close()"
      ]
    },
    {
      "cell_type": "markdown",
      "metadata": {
        "id": "uqu6CRGDfA_8"
      },
      "source": [
        "## Authors\n"
      ]
    },
    {
      "cell_type": "markdown",
      "metadata": {
        "id": "GC043wP7fA_9"
      },
      "source": [
        "Ramesh Sannareddy\n"
      ]
    },
    {
      "cell_type": "markdown",
      "metadata": {
        "id": "DQcvBWc1fA_-"
      },
      "source": [
        "### Other Contributors\n"
      ]
    },
    {
      "cell_type": "markdown",
      "metadata": {
        "id": "5IKlWljGfA__"
      },
      "source": [
        "Rav Ahuja\n"
      ]
    },
    {
      "cell_type": "markdown",
      "metadata": {
        "id": "7iCzIlEOfBAA"
      },
      "source": [
        "## Change Log\n"
      ]
    },
    {
      "cell_type": "markdown",
      "metadata": {
        "id": "H0z7epFFfBAB"
      },
      "source": [
        "| Date (YYYY-MM-DD) | Version | Changed By        | Change Description                 |\n",
        "| ----------------- | ------- | ----------------- | ---------------------------------- |\n",
        "| 2020-10-17        | 0.1     | Ramesh Sannareddy | Created initial version of the lab |\n"
      ]
    },
    {
      "cell_type": "markdown",
      "metadata": {
        "id": "oZgWlyesfBAB"
      },
      "source": [
        " Copyright © 2020 IBM Corporation. This notebook and its source code are released under the terms of the [MIT License](https://cognitiveclass.ai/mit-license?utm_medium=Exinfluencer&utm_source=Exinfluencer&utm_content=000026UJ&utm_term=10006555&utm_id=NA-SkillsNetwork-Channel-SkillsNetworkCoursesIBMDA0321ENSkillsNetwork928-2023-01-01&cm_mmc=Email_Newsletter-_-Developer_Ed%2BTech-_-WW_WW-_-SkillsNetwork-Courses-IBM-DA0321EN-SkillsNetwork-21426264&cm_mmca1=000026UJ&cm_mmca2=10006555&cm_mmca3=M12345678&cvosrc=email.Newsletter.M12345678&cvo_campaign=000026UJ).\n"
      ]
    }
  ],
  "metadata": {
    "kernelspec": {
      "display_name": "Python",
      "language": "python",
      "name": "conda-env-python-py"
    },
    "language_info": {
      "name": ""
    },
    "colab": {
      "provenance": []
    }
  },
  "nbformat": 4,
  "nbformat_minor": 0
}